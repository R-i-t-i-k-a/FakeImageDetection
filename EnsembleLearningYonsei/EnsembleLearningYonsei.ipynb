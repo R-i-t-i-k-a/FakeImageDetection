{
  "cells": [
    {
      "cell_type": "code",
      "execution_count": null,
      "metadata": {
        "id": "_Y1e0-4uFt33"
      },
      "outputs": [],
      "source": [
        "import tensorflow.keras.backend as K\n",
        "import tensorflow as tf\n",
        "\n",
        "K.clear_session()\n",
        "tf.compat.v1.reset_default_graph()\n"
      ]
    },
    {
      "cell_type": "code",
      "execution_count": null,
      "metadata": {
        "colab": {
          "base_uri": "https://localhost:8080/"
        },
        "id": "QQwfukXCCx8O",
        "outputId": "c381adb4-4b3b-4207-8511-a67fa7996072"
      },
      "outputs": [
        {
          "output_type": "stream",
          "name": "stdout",
          "text": [
            "2.18.0\n"
          ]
        }
      ],
      "source": [
        "import tensorflow as tf\n",
        "print(tf.__version__)\n"
      ]
    },
    {
      "cell_type": "code",
      "execution_count": null,
      "metadata": {
        "colab": {
          "base_uri": "https://localhost:8080/"
        },
        "collapsed": true,
        "id": "J9OlA5sZGJj0",
        "outputId": "f3670aaf-fdce-47a5-f809-442b675b2ebc"
      },
      "outputs": [
        {
          "output_type": "stream",
          "name": "stdout",
          "text": [
            "Requirement already satisfied: tensorflow in /usr/local/lib/python3.11/dist-packages (2.18.0)\n",
            "Requirement already satisfied: absl-py>=1.0.0 in /usr/local/lib/python3.11/dist-packages (from tensorflow) (1.4.0)\n",
            "Requirement already satisfied: astunparse>=1.6.0 in /usr/local/lib/python3.11/dist-packages (from tensorflow) (1.6.3)\n",
            "Requirement already satisfied: flatbuffers>=24.3.25 in /usr/local/lib/python3.11/dist-packages (from tensorflow) (25.2.10)\n",
            "Requirement already satisfied: gast!=0.5.0,!=0.5.1,!=0.5.2,>=0.2.1 in /usr/local/lib/python3.11/dist-packages (from tensorflow) (0.6.0)\n",
            "Requirement already satisfied: google-pasta>=0.1.1 in /usr/local/lib/python3.11/dist-packages (from tensorflow) (0.2.0)\n",
            "Requirement already satisfied: libclang>=13.0.0 in /usr/local/lib/python3.11/dist-packages (from tensorflow) (18.1.1)\n",
            "Requirement already satisfied: opt-einsum>=2.3.2 in /usr/local/lib/python3.11/dist-packages (from tensorflow) (3.4.0)\n",
            "Requirement already satisfied: packaging in /usr/local/lib/python3.11/dist-packages (from tensorflow) (24.2)\n",
            "Requirement already satisfied: protobuf!=4.21.0,!=4.21.1,!=4.21.2,!=4.21.3,!=4.21.4,!=4.21.5,<6.0.0dev,>=3.20.3 in /usr/local/lib/python3.11/dist-packages (from tensorflow) (4.25.6)\n",
            "Requirement already satisfied: requests<3,>=2.21.0 in /usr/local/lib/python3.11/dist-packages (from tensorflow) (2.32.3)\n",
            "Requirement already satisfied: setuptools in /usr/local/lib/python3.11/dist-packages (from tensorflow) (75.1.0)\n",
            "Requirement already satisfied: six>=1.12.0 in /usr/local/lib/python3.11/dist-packages (from tensorflow) (1.17.0)\n",
            "Requirement already satisfied: termcolor>=1.1.0 in /usr/local/lib/python3.11/dist-packages (from tensorflow) (2.5.0)\n",
            "Requirement already satisfied: typing-extensions>=3.6.6 in /usr/local/lib/python3.11/dist-packages (from tensorflow) (4.12.2)\n",
            "Requirement already satisfied: wrapt>=1.11.0 in /usr/local/lib/python3.11/dist-packages (from tensorflow) (1.17.2)\n",
            "Requirement already satisfied: grpcio<2.0,>=1.24.3 in /usr/local/lib/python3.11/dist-packages (from tensorflow) (1.70.0)\n",
            "Requirement already satisfied: tensorboard<2.19,>=2.18 in /usr/local/lib/python3.11/dist-packages (from tensorflow) (2.18.0)\n",
            "Requirement already satisfied: keras>=3.5.0 in /usr/local/lib/python3.11/dist-packages (from tensorflow) (3.8.0)\n",
            "Requirement already satisfied: numpy<2.1.0,>=1.26.0 in /usr/local/lib/python3.11/dist-packages (from tensorflow) (1.26.4)\n",
            "Requirement already satisfied: h5py>=3.11.0 in /usr/local/lib/python3.11/dist-packages (from tensorflow) (3.12.1)\n",
            "Requirement already satisfied: ml-dtypes<0.5.0,>=0.4.0 in /usr/local/lib/python3.11/dist-packages (from tensorflow) (0.4.1)\n",
            "Requirement already satisfied: tensorflow-io-gcs-filesystem>=0.23.1 in /usr/local/lib/python3.11/dist-packages (from tensorflow) (0.37.1)\n",
            "Requirement already satisfied: wheel<1.0,>=0.23.0 in /usr/local/lib/python3.11/dist-packages (from astunparse>=1.6.0->tensorflow) (0.45.1)\n",
            "Requirement already satisfied: rich in /usr/local/lib/python3.11/dist-packages (from keras>=3.5.0->tensorflow) (13.9.4)\n",
            "Requirement already satisfied: namex in /usr/local/lib/python3.11/dist-packages (from keras>=3.5.0->tensorflow) (0.0.8)\n",
            "Requirement already satisfied: optree in /usr/local/lib/python3.11/dist-packages (from keras>=3.5.0->tensorflow) (0.14.1)\n",
            "Requirement already satisfied: charset-normalizer<4,>=2 in /usr/local/lib/python3.11/dist-packages (from requests<3,>=2.21.0->tensorflow) (3.4.1)\n",
            "Requirement already satisfied: idna<4,>=2.5 in /usr/local/lib/python3.11/dist-packages (from requests<3,>=2.21.0->tensorflow) (3.10)\n",
            "Requirement already satisfied: urllib3<3,>=1.21.1 in /usr/local/lib/python3.11/dist-packages (from requests<3,>=2.21.0->tensorflow) (2.3.0)\n",
            "Requirement already satisfied: certifi>=2017.4.17 in /usr/local/lib/python3.11/dist-packages (from requests<3,>=2.21.0->tensorflow) (2025.1.31)\n",
            "Requirement already satisfied: markdown>=2.6.8 in /usr/local/lib/python3.11/dist-packages (from tensorboard<2.19,>=2.18->tensorflow) (3.7)\n",
            "Requirement already satisfied: tensorboard-data-server<0.8.0,>=0.7.0 in /usr/local/lib/python3.11/dist-packages (from tensorboard<2.19,>=2.18->tensorflow) (0.7.2)\n",
            "Requirement already satisfied: werkzeug>=1.0.1 in /usr/local/lib/python3.11/dist-packages (from tensorboard<2.19,>=2.18->tensorflow) (3.1.3)\n",
            "Requirement already satisfied: MarkupSafe>=2.1.1 in /usr/local/lib/python3.11/dist-packages (from werkzeug>=1.0.1->tensorboard<2.19,>=2.18->tensorflow) (3.0.2)\n",
            "Requirement already satisfied: markdown-it-py>=2.2.0 in /usr/local/lib/python3.11/dist-packages (from rich->keras>=3.5.0->tensorflow) (3.0.0)\n",
            "Requirement already satisfied: pygments<3.0.0,>=2.13.0 in /usr/local/lib/python3.11/dist-packages (from rich->keras>=3.5.0->tensorflow) (2.18.0)\n",
            "Requirement already satisfied: mdurl~=0.1 in /usr/local/lib/python3.11/dist-packages (from markdown-it-py>=2.2.0->rich->keras>=3.5.0->tensorflow) (0.1.2)\n"
          ]
        }
      ],
      "source": [
        "!pip install --upgrade tensorflow\n"
      ]
    },
    {
      "cell_type": "markdown",
      "metadata": {
        "id": "PpsjyP-4GyIx"
      },
      "source": [
        "# **Data Preprocessing**"
      ]
    },
    {
      "cell_type": "code",
      "execution_count": null,
      "metadata": {
        "id": "E-Wr4y7OXpuk"
      },
      "outputs": [],
      "source": [
        "import numpy as np\n",
        "import tensorflow as tf\n",
        "import pandas as pd\n",
        "import os\n",
        "from sklearn.metrics import accuracy_score, precision_score, recall_score, f1_score, confusion_matrix\n",
        "import matplotlib.pyplot as plt\n",
        "import seaborn as sns\n",
        "from tensorflow.keras.preprocessing.image import load_img, img_to_array, ImageDataGenerator\n",
        "from tensorflow.keras.applications.resnet50 import preprocess_input\n",
        "from sklearn.model_selection import train_test_split\n",
        "from sklearn.linear_model import LogisticRegression\n",
        "from sklearn.preprocessing import StandardScaler"
      ]
    },
    {
      "cell_type": "code",
      "execution_count": null,
      "metadata": {
        "colab": {
          "base_uri": "https://localhost:8080/"
        },
        "id": "JNWGaPnFaHbi",
        "outputId": "389100c8-a461-4d1c-d2b0-a0541fd2714d"
      },
      "outputs": [
        {
          "output_type": "stream",
          "name": "stdout",
          "text": [
            "Mounted at /content/drive\n"
          ]
        }
      ],
      "source": [
        "# Mount Google Drive\n",
        "from google.colab import drive\n",
        "drive.mount('/content/drive')"
      ]
    },
    {
      "cell_type": "code",
      "execution_count": null,
      "metadata": {
        "id": "GRpar7_VaO9a"
      },
      "outputs": [],
      "source": [
        "# Dataset Paths\n",
        "real_path = 'drive/MyDrive/real_and_fake_face/training_real'\n",
        "fake_path = 'drive/MyDrive/real_and_fake_face/training_fake'"
      ]
    },
    {
      "cell_type": "code",
      "execution_count": null,
      "metadata": {
        "id": "VqVr-uE27YpQ"
      },
      "outputs": [],
      "source": [
        "# Data Augmentation\n",
        "data_gen = ImageDataGenerator(\n",
        "    rotation_range=30,\n",
        "    width_shift_range=0.2,\n",
        "    height_shift_range=0.2,\n",
        "    shear_range=0.2,\n",
        "    zoom_range=0.2,\n",
        "    horizontal_flip=True,\n",
        "    fill_mode='nearest'\n",
        ")\n"
      ]
    },
    {
      "cell_type": "code",
      "execution_count": null,
      "metadata": {
        "id": "lFIdjJ-PaPxg"
      },
      "outputs": [],
      "source": [
        "# Load dataset and preprocess\n",
        "def load_image_paths_labels(folder_path, label):\n",
        "    image_paths, labels = [], []\n",
        "    for file in os.listdir(folder_path):\n",
        "        image_paths.append(os.path.join(folder_path, file))\n",
        "        labels.append(label)\n",
        "    return image_paths, labels\n",
        "\n",
        "real_paths, real_labels = load_image_paths_labels(real_path, 1)\n",
        "fake_paths, fake_labels = load_image_paths_labels(fake_path, 0)\n",
        "\n",
        "image_paths = real_paths + fake_paths\n",
        "labels = real_labels + fake_labels\n",
        "\n",
        "df = pd.DataFrame({'Paths': image_paths, 'Real': labels})"
      ]
    },
    {
      "cell_type": "code",
      "execution_count": null,
      "metadata": {
        "colab": {
          "base_uri": "https://localhost:8080/",
          "height": 472
        },
        "id": "3aW6wgcKaSAn",
        "outputId": "903e1d92-77e3-41b1-f842-30e193495d53"
      },
      "outputs": [
        {
          "output_type": "display_data",
          "data": {
            "text/plain": [
              "<Figure size 640x480 with 1 Axes>"
            ],
            "image/png": "[encoded data removed]"
          },
          "metadata": {}
        }
      ],
      "source": [
        "# Bar Plot for Data Distribution\n",
        "plt.bar(df['Real'].value_counts().index, df['Real'].value_counts().values)\n",
        "plt.xlabel('Real?')\n",
        "plt.ylabel('Count')\n",
        "plt.title('Bar Plot of Counts of Real and Fake Images')\n",
        "plt.xticks([0, 1])\n",
        "plt.show()"
      ]
    },
    {
      "cell_type": "code",
      "execution_count": null,
      "metadata": {
        "id": "aBXfDH93adRn"
      },
      "outputs": [],
      "source": [
        "# Preprocess Images\n",
        "def preprocess_image(path, target_size=(224, 224), color_mode='rgb'):\n",
        "    img = load_img(path, target_size=target_size, color_mode=color_mode)\n",
        "    img_array = img_to_array(img)\n",
        "    return preprocess_input(img_array)\n",
        "\n",
        "df['image'] = df['Paths'].apply(preprocess_image)"
      ]
    },
    {
      "cell_type": "code",
      "execution_count": null,
      "metadata": {
        "id": "RVQyoUIMavnb"
      },
      "outputs": [],
      "source": [
        "# Split Dataset\n",
        "train_df, test_df = train_test_split(df, test_size=0.3, stratify=df['Real'], random_state=123)\n",
        "X_train = np.stack(train_df['image'].values)\n",
        "y_train = train_df['Real'].values\n",
        "X_test = np.stack(test_df['image'].values)\n",
        "y_test = test_df['Real'].values"
      ]
    },
    {
      "cell_type": "code",
      "execution_count": null,
      "metadata": {
        "colab": {
          "base_uri": "https://localhost:8080/"
        },
        "id": "Lcb-s7TAZaxX",
        "outputId": "e80037c3-d786-4e12-8de1-8931cc51dcd4"
      },
      "outputs": [
        {
          "output_type": "stream",
          "name": "stdout",
          "text": [
            "ResNet50 model exists: True\n",
            "DenseNet model exists: True\n",
            "EfficientNEtB0 model exists: True\n"
          ]
        }
      ],
      "source": [
        "print(\"ResNet50 model exists:\", os.path.exists(\"drive/MyDrive/savedModels/final_yonsei_models/ResNet50.h5\"))\n",
        "print(\"DenseNet model exists:\", os.path.exists(\"drive/MyDrive/savedModels/final_yonsei_models/DenseNet121.h5\"))\n",
        "print(\"EfficientNEtB0 model exists:\", os.path.exists(\"drive/MyDrive/savedModels/final_yonsei_models/EfficientNetB0.h5\"))"
      ]
    },
    {
      "cell_type": "code",
      "execution_count": null,
      "metadata": {
        "colab": {
          "base_uri": "https://localhost:8080/"
        },
        "id": "9pH90VS4XrwT",
        "outputId": "422e36e0-e925-420b-f153-c483cde6f363"
      },
      "outputs": [
        {
          "output_type": "stream",
          "name": "stderr",
          "text": [
            "WARNING:absl:Compiled the loaded model, but the compiled metrics have yet to be built. `model.compile_metrics` will be empty until you train or evaluate the model.\n",
            "WARNING:absl:Compiled the loaded model, but the compiled metrics have yet to be built. `model.compile_metrics` will be empty until you train or evaluate the model.\n",
            "WARNING:absl:Compiled the loaded model, but the compiled metrics have yet to be built. `model.compile_metrics` will be empty until you train or evaluate the model.\n"
          ]
        }
      ],
      "source": [
        "# Load pre-trained models from .h5 files\n",
        "model_resnet50 = tf.keras.models.load_model(\"drive/MyDrive/savedModels/final_yonsei_models/ResNet50.h5\")\n",
        "model_densenet = tf.keras.models.load_model(\"drive/MyDrive/savedModels/final_yonsei_models/DenseNet121.h5\")\n",
        "model_efficientnetB0 = tf.keras.models.load_model(\"drive/MyDrive/savedModels/final_yonsei_models/EfficientNetB0.h5\")"
      ]
    },
    {
      "cell_type": "code",
      "execution_count": null,
      "metadata": {
        "colab": {
          "base_uri": "https://localhost:8080/"
        },
        "id": "8apvzbe8FZI8",
        "outputId": "b1d06300-a0cb-4229-95b8-573ba3227f75"
      },
      "outputs": [
        {
          "output_type": "stream",
          "name": "stdout",
          "text": [
            "\u001b[1m1/1\u001b[0m \u001b[32m━━━━━━━━━━━━━━━━━━━━\u001b[0m\u001b[37m\u001b[0m \u001b[1m2s\u001b[0m 2s/step\n",
            "ResNet50 Prediction Shape: (5, 1)\n",
            "\u001b[1m1/1\u001b[0m \u001b[32m━━━━━━━━━━━━━━━━━━━━\u001b[0m\u001b[37m\u001b[0m \u001b[1m3s\u001b[0m 3s/step\n",
            "DenseNet Prediction Shape: (5, 1)\n",
            "\u001b[1m1/1\u001b[0m \u001b[32m━━━━━━━━━━━━━━━━━━━━\u001b[0m\u001b[37m\u001b[0m \u001b[1m1s\u001b[0m 1s/step\n",
            "EfficientNet Prediction Shape: (5, 1)\n"
          ]
        }
      ],
      "source": [
        "test_sample = X_test[:5]  # Pick a small batch\n",
        "\n",
        "try:\n",
        "    print(\"ResNet50 Prediction Shape:\", model_resnet50.predict(test_sample).shape)\n",
        "    print(\"DenseNet Prediction Shape:\", model_densenet.predict(test_sample).shape)\n",
        "    print(\"EfficientNet Prediction Shape:\", model_efficientnetB0.predict(test_sample).shape)\n",
        "except Exception as e:\n",
        "    print(\"Error during individual predictions:\", e)\n"
      ]
    },
    {
      "cell_type": "code",
      "execution_count": null,
      "metadata": {
        "colab": {
          "base_uri": "https://localhost:8080/"
        },
        "id": "LhCfvTyTD9xT",
        "outputId": "2865907e-1c32-4910-ed1a-649141555e29"
      },
      "outputs": [
        {
          "output_type": "stream",
          "name": "stdout",
          "text": [
            "X_test type: <class 'numpy.ndarray'>\n",
            "X_test shape: (613, 224, 224, 3)\n",
            "X_test dtype: float32\n"
          ]
        }
      ],
      "source": [
        "import numpy as np\n",
        "\n",
        "print(\"X_test type:\", type(X_test))\n",
        "print(\"X_test shape:\", X_test.shape)\n",
        "print(\"X_test dtype:\", X_test.dtype)\n"
      ]
    },
    {
      "cell_type": "code",
      "execution_count": null,
      "metadata": {
        "colab": {
          "base_uri": "https://localhost:8080/"
        },
        "id": "ePERirsyEYKN",
        "outputId": "dc014304-2902-4bdd-d2a6-7d7a67265e49"
      },
      "outputs": [
        {
          "output_type": "stream",
          "name": "stdout",
          "text": [
            "ResNet50 output shape: (None, 1)\n",
            "DenseNet output shape: (None, 1)\n",
            "EfficientNet output shape: (None, 1)\n"
          ]
        }
      ],
      "source": [
        "print(\"ResNet50 output shape:\", model_resnet50.output_shape)\n",
        "print(\"DenseNet output shape:\", model_densenet.output_shape)\n",
        "print(\"EfficientNet output shape:\", model_efficientnetB0.output_shape)\n"
      ]
    },
    {
      "cell_type": "code",
      "execution_count": null,
      "metadata": {
        "colab": {
          "base_uri": "https://localhost:8080/"
        },
        "id": "lbuPJ1FcEfSh",
        "outputId": "f6e668a4-8306-4f88-b712-e862e101f15a"
      },
      "outputs": [
        {
          "output_type": "stream",
          "name": "stdout",
          "text": [
            "ResNet50 input shape: (None, 224, 224, 3)\n",
            "DenseNet input shape: (None, 224, 224, 3)\n",
            "EfficientNet input shape: (None, 224, 224, 3)\n"
          ]
        }
      ],
      "source": [
        "print(\"ResNet50 input shape:\", model_resnet50.input_shape)\n",
        "print(\"DenseNet input shape:\", model_densenet.input_shape)\n",
        "print(\"EfficientNet input shape:\", model_efficientnetB0.input_shape)\n"
      ]
    },
    {
      "cell_type": "markdown",
      "source": [
        "# Averaging Probability"
      ],
      "metadata": {
        "id": "gx1MaGr5jLxc"
      }
    },
    {
      "cell_type": "code",
      "execution_count": null,
      "metadata": {
        "colab": {
          "base_uri": "https://localhost:8080/"
        },
        "id": "p3mfuMvVMr79",
        "outputId": "33db80b5-d4df-404b-af89-dca3c3becd4e"
      },
      "outputs": [
        {
          "name": "stdout",
          "output_type": "stream",
          "text": [
            "\u001b[1m20/20\u001b[0m \u001b[32m━━━━━━━━━━━━━━━━━━━━\u001b[0m\u001b[37m\u001b[0m \u001b[1m129s\u001b[0m 6s/step\n",
            "\u001b[1m20/20\u001b[0m \u001b[32m━━━━━━━━━━━━━━━━━━━━\u001b[0m\u001b[37m\u001b[0m \u001b[1m141s\u001b[0m 7s/step\n",
            "\u001b[1m20/20\u001b[0m \u001b[32m━━━━━━━━━━━━━━━━━━━━\u001b[0m\u001b[37m\u001b[0m \u001b[1m54s\u001b[0m 3s/step\n",
            "Ensemble Accuracy: 0.5670\n",
            "Ensemble Precision: 0.5616\n",
            "Ensemble Recall: 0.8671\n",
            "Ensemble F1-Score: 0.6817\n"
          ]
        }
      ],
      "source": [
        "def ensemble_predict(model_1, model_2, model_3, X_test, method='average'):\n",
        "    \"\"\"\n",
        "    Generate ensemble predictions using either majority voting or averaging.\n",
        "\n",
        "    Parameters:\n",
        "    - model_1: First model (ResNet)\n",
        "    - model_2: Second model (DenseNet)\n",
        "    - model_3: Third model (EfficientNet)\n",
        "    - X_test: Test dataset\n",
        "    - method: 'average' for probability averaging, 'majority' for majority voting\n",
        "\n",
        "    Returns:\n",
        "    - Final binary predictions (0 or 1)\n",
        "    \"\"\"\n",
        "    # Get predictions from all models\n",
        "    pred_model1 = model_1.predict(X_test)\n",
        "    pred_model2 = model_2.predict(X_test)\n",
        "    pred_model3 = model_3.predict(X_test)\n",
        "\n",
        "    if method == 'average':\n",
        "        # Averaging the predicted probabilities\n",
        "        pred_avg = np.mean([pred_model1, pred_model2, pred_model3], axis=0)\n",
        "        pred_binary = (pred_avg > 0.5).astype(int)  # Convert probabilities to binary labels\n",
        "    elif method == 'majority':\n",
        "        # Majority voting: round to nearest integer and average the predictions\n",
        "        pred_binary = (np.round(pred_model1) + np.round(pred_model2) + np.round(pred_model3)) // 3\n",
        "    else:\n",
        "        raise ValueError(\"Invalid method. Choose 'average' or 'majority'.\")\n",
        "\n",
        "    return pred_binary\n",
        "\n",
        "# Load test data (Assuming X_test and y_test are preloaded)\n",
        "ensemble_preds = ensemble_predict(model_resnet50, model_densenet, model_efficientnetB0, X_test, method='average')\n",
        "\n",
        "# Evaluate Ensemble Model\n",
        "ensemble_accuracy = accuracy_score(y_test, ensemble_preds)\n",
        "ensemble_precision = precision_score(y_test, ensemble_preds)\n",
        "ensemble_recall = recall_score(y_test, ensemble_preds)\n",
        "ensemble_f1 = f1_score(y_test, ensemble_preds)\n",
        "\n",
        "print(f\"Ensemble Accuracy: {ensemble_accuracy:.4f}\")\n",
        "print(f\"Ensemble Precision: {ensemble_precision:.4f}\")\n",
        "print(f\"Ensemble Recall: {ensemble_recall:.4f}\")\n",
        "print(f\"Ensemble F1-Score: {ensemble_f1:.4f}\")\n"
      ]
    },
    {
      "cell_type": "markdown",
      "source": [
        "# Majority Voting"
      ],
      "metadata": {
        "id": "fuSPRpjqjdpA"
      }
    },
    {
      "cell_type": "code",
      "execution_count": null,
      "metadata": {
        "colab": {
          "base_uri": "https://localhost:8080/"
        },
        "id": "cdfY_E4aRDN5",
        "outputId": "7aed723f-4bba-4e7b-f2b9-4b8650fa6db6"
      },
      "outputs": [
        {
          "name": "stdout",
          "output_type": "stream",
          "text": [
            "\u001b[1m20/20\u001b[0m \u001b[32m━━━━━━━━━━━━━━━━━━━━\u001b[0m\u001b[37m\u001b[0m \u001b[1m134s\u001b[0m 6s/step\n",
            "\u001b[1m20/20\u001b[0m \u001b[32m━━━━━━━━━━━━━━━━━━━━\u001b[0m\u001b[37m\u001b[0m \u001b[1m130s\u001b[0m 6s/step\n",
            "\u001b[1m20/20\u001b[0m \u001b[32m━━━━━━━━━━━━━━━━━━━━\u001b[0m\u001b[37m\u001b[0m \u001b[1m74s\u001b[0m 4s/step\n",
            "Ensemble Majority Accuracy: 0.5977\n",
            "Ensemble Majority Precision: 0.7384\n",
            "Ensemble Majority Recall: 0.3837\n",
            "Ensemble Majority F1-Score: 0.5050\n"
          ]
        }
      ],
      "source": [
        "def ensemble_majority_predict(model_1, model_2, model_3, X_test):\n",
        "    \"\"\"\n",
        "    Generate ensemble predictions using majority voting.\n",
        "\n",
        "    Parameters:\n",
        "    - model_1: First model (ResNet)\n",
        "    - model_2: Second model (DenseNet)\n",
        "    - model_3: Third model (EfficientNet)\n",
        "    - X_test: Test dataset\n",
        "\n",
        "    Returns:\n",
        "    - Final binary predictions (0 or 1)\n",
        "    \"\"\"\n",
        "    # Get predictions from all models\n",
        "    pred_model1 = np.round(model_1.predict(X_test))\n",
        "    pred_model2 = np.round(model_2.predict(X_test))\n",
        "    pred_model3 = np.round(model_3.predict(X_test))\n",
        "\n",
        "    # Majority voting\n",
        "    pred_binary = (pred_model1 + pred_model2 + pred_model3) // 3\n",
        "\n",
        "    return pred_binary\n",
        "\n",
        "# Load test data (Assuming X_test and y_test are preloaded)\n",
        "ensemble_majority_preds = ensemble_majority_predict(model_resnet50, model_densenet, model_efficientnetB0, X_test)\n",
        "\n",
        "# Evaluate Ensemble Model\n",
        "ensemble_majority_accuracy = accuracy_score(y_test, ensemble_majority_preds)\n",
        "ensemble_majority_precision = precision_score(y_test, ensemble_majority_preds)\n",
        "ensemble_majority_recall = recall_score(y_test, ensemble_majority_preds)\n",
        "ensemble_majority_f1 = f1_score(y_test, ensemble_majority_preds)\n",
        "\n",
        "print(f\"Ensemble Majority Accuracy: {ensemble_majority_accuracy:.4f}\")\n",
        "print(f\"Ensemble Majority Precision: {ensemble_majority_precision:.4f}\")\n",
        "print(f\"Ensemble Majority Recall: {ensemble_majority_recall:.4f}\")\n",
        "print(f\"Ensemble Majority F1-Score: {ensemble_majority_f1:.4f}\")\n"
      ]
    },
    {
      "cell_type": "markdown",
      "source": [
        "# Weighted Majority Voting"
      ],
      "metadata": {
        "id": "Lqf2HmzTjj_x"
      }
    },
    {
      "cell_type": "code",
      "execution_count": null,
      "metadata": {
        "colab": {
          "base_uri": "https://localhost:8080/"
        },
        "id": "ofGvPed7REJK",
        "outputId": "80149925-457f-4344-dd08-497c4fd07d00"
      },
      "outputs": [
        {
          "name": "stdout",
          "output_type": "stream",
          "text": [
            "\u001b[1m20/20\u001b[0m \u001b[32m━━━━━━━━━━━━━━━━━━━━\u001b[0m\u001b[37m\u001b[0m \u001b[1m143s\u001b[0m 7s/step\n",
            "\u001b[1m20/20\u001b[0m \u001b[32m━━━━━━━━━━━━━━━━━━━━\u001b[0m\u001b[37m\u001b[0m \u001b[1m126s\u001b[0m 6s/step\n",
            "\u001b[1m20/20\u001b[0m \u001b[32m━━━━━━━━━━━━━━━━━━━━\u001b[0m\u001b[37m\u001b[0m \u001b[1m53s\u001b[0m 3s/step\n",
            "Weighted Majority Voting Accuracy: 0.6107\n",
            "Weighted Majority Voting Precision: 0.5996\n",
            "Weighted Majority Voting Recall: 0.8187\n",
            "Weighted Majority Voting F1-Score: 0.6922\n"
          ]
        }
      ],
      "source": [
        "def ensemble_weighted_voting(model_1, model_2, model_3, X_test, weight_1=0.6, weight_2=0.3, weight_3=0.1):\n",
        "    \"\"\"\n",
        "    Generate ensemble predictions using weighted voting.\n",
        "\n",
        "    Parameters:\n",
        "    - model_1: First model (ResNet)\n",
        "    - model_2: Second model (DenseNet)\n",
        "    - model_3: Third model (EfficientNet)\n",
        "    - X_test: Test dataset\n",
        "    - weight_1: Weight for model_1's predictions\n",
        "    - weight_2: Weight for model_2's predictions\n",
        "    - weight_3: Weight for model_3's predictions\n",
        "\n",
        "    Returns:\n",
        "    - Final binary predictions (0 or 1)\n",
        "    \"\"\"\n",
        "    # Get predictions from all models\n",
        "    pred_model1 = model_1.predict(X_test)\n",
        "    pred_model2 = model_2.predict(X_test)\n",
        "    pred_model3 = model_3.predict(X_test)\n",
        "\n",
        "    # Weighted predictions\n",
        "    weighted_preds = np.average([pred_model1, pred_model2, pred_model3], axis=0, weights=[weight_1, weight_2, weight_3])\n",
        "    pred_binary = (weighted_preds > 0.5).astype(int)  # Convert weighted probability to binary label\n",
        "\n",
        "    return pred_binary\n",
        "\n",
        "# Load test data and evaluate\n",
        "ensemble_weighted_preds = ensemble_weighted_voting(model_resnet50, model_densenet, model_efficientnetB0, X_test)\n",
        "ensemble_weighted_accuracy = accuracy_score(y_test, ensemble_weighted_preds)\n",
        "ensemble_weighted_precision = precision_score(y_test, ensemble_weighted_preds)\n",
        "ensemble_weighted_recall = recall_score(y_test, ensemble_weighted_preds)\n",
        "ensemble_weighted_f1 = f1_score(y_test, ensemble_weighted_preds)\n",
        "\n",
        "print(f\"Weighted Majority Voting Accuracy: {ensemble_weighted_accuracy:.4f}\")\n",
        "print(f\"Weighted Majority Voting Precision: {ensemble_weighted_precision:.4f}\")\n",
        "print(f\"Weighted Majority Voting Recall: {ensemble_weighted_recall:.4f}\")\n",
        "print(f\"Weighted Majority Voting F1-Score: {ensemble_weighted_f1:.4f}\")\n"
      ]
    },
    {
      "cell_type": "markdown",
      "source": [
        "# Stacking"
      ],
      "metadata": {
        "id": "Iz148mF_joc0"
      }
    },
    {
      "cell_type": "code",
      "execution_count": null,
      "metadata": {
        "colab": {
          "base_uri": "https://localhost:8080/",
          "height": 646
        },
        "id": "AFmJekyXuOIi",
        "outputId": "08ce209a-00ce-430b-8179-5c9b9536ae87"
      },
      "outputs": [
        {
          "name": "stdout",
          "output_type": "stream",
          "text": [
            "\u001b[1m45/45\u001b[0m \u001b[32m━━━━━━━━━━━━━━━━━━━━\u001b[0m\u001b[37m\u001b[0m \u001b[1m236s\u001b[0m 5s/step\n",
            "\u001b[1m45/45\u001b[0m \u001b[32m━━━━━━━━━━━━━━━━━━━━\u001b[0m\u001b[37m\u001b[0m \u001b[1m253s\u001b[0m 6s/step\n",
            "\u001b[1m45/45\u001b[0m \u001b[32m━━━━━━━━━━━━━━━━━━━━\u001b[0m\u001b[37m\u001b[0m \u001b[1m116s\u001b[0m 2s/step\n",
            "\u001b[1m20/20\u001b[0m \u001b[32m━━━━━━━━━━━━━━━━━━━━\u001b[0m\u001b[37m\u001b[0m \u001b[1m101s\u001b[0m 5s/step\n",
            "\u001b[1m20/20\u001b[0m \u001b[32m━━━━━━━━━━━━━━━━━━━━\u001b[0m\u001b[37m\u001b[0m \u001b[1m102s\u001b[0m 5s/step\n",
            "\u001b[1m20/20\u001b[0m \u001b[32m━━━━━━━━━━━━━━━━━━━━\u001b[0m\u001b[37m\u001b[0m \u001b[1m44s\u001b[0m 2s/step\n",
            "Accuracy: 0.6330\n",
            "Precision: 0.6471\n",
            "Recall: 0.6769\n",
            "F1 Score: 0.6617\n"
          ]
        },
        {
          "data": {
            "image/png": "[encoded data removed]",
            "text/plain": [
              "<Figure size 640x480 with 2 Axes>"
            ]
          },
          "metadata": {},
          "output_type": "display_data"
        }
      ],
      "source": [
        "import numpy as np\n",
        "from sklearn.linear_model import LogisticRegression\n",
        "from sklearn.metrics import accuracy_score, precision_score, recall_score, f1_score\n",
        "\n",
        "# Step 1: Extract predictions from base models\n",
        "def get_predictions(model, X):\n",
        "    return model.predict(X)\n",
        "\n",
        "# Get predictions for training and test data\n",
        "resnet_train_preds = get_predictions(model_resnet50, X_train)\n",
        "densenet_train_preds = get_predictions(model_densenet, X_train)\n",
        "efficientnet_train_preds = get_predictions(model_efficientnetB0, X_train)\n",
        "\n",
        "resnet_test_preds = get_predictions(model_resnet50, X_test)\n",
        "densenet_test_preds = get_predictions(model_densenet, X_test)\n",
        "efficientnet_test_preds = get_predictions(model_efficientnetB0, X_test)\n",
        "\n",
        "# Step 2: Combine predictions horizontally\n",
        "X_final_train = np.column_stack((resnet_train_preds, densenet_train_preds, efficientnet_train_preds))\n",
        "X_final_test = np.column_stack((resnet_test_preds, densenet_test_preds, efficientnet_test_preds))\n",
        "\n",
        "# Step 3: Train the meta-model (Logistic Regression)\n",
        "meta_model = LogisticRegression(max_iter=1000)\n",
        "meta_model.fit(X_final_train, y_train)\n",
        "\n",
        "# Step 4: Evaluate the stacked model\n",
        "y_pred = meta_model.predict(X_final_test)\n",
        "\n",
        "# Calculate evaluation metrics\n",
        "accuracy = accuracy_score(y_test, y_pred)\n",
        "precision = precision_score(y_test, y_pred)\n",
        "recall = recall_score(y_test, y_pred)\n",
        "f1 = f1_score(y_test, y_pred)\n",
        "\n",
        "print(f\"Accuracy: {accuracy:.4f}\")\n",
        "print(f\"Precision: {precision:.4f}\")\n",
        "print(f\"Recall: {recall:.4f}\")\n",
        "print(f\"F1 Score: {f1:.4f}\")\n",
        "\n",
        "# Confusion Matrix\n",
        "conf_matrix = confusion_matrix(y_test, y_pred)\n",
        "sns.heatmap(conf_matrix, annot=True, fmt='d', cmap='Blues', xticklabels=['Fake', 'Real'], yticklabels=['Fake', 'Real'])\n",
        "plt.xlabel('Predicted')\n",
        "plt.ylabel('Actual')\n",
        "plt.title('Confusion Matrix')\n",
        "plt.show()"
      ]
    },
    {
      "cell_type": "code",
      "execution_count": null,
      "metadata": {
        "colab": {
          "base_uri": "https://localhost:8080/",
          "height": 1000
        },
        "id": "x0cgC_3RxufW",
        "outputId": "087c4461-5350-4cb9-fd31-ba1a3d69a740"
      },
      "outputs": [
        {
          "name": "stdout",
          "output_type": "stream",
          "text": [
            "\u001b[1m45/45\u001b[0m \u001b[32m━━━━━━━━━━━━━━━━━━━━\u001b[0m\u001b[37m\u001b[0m \u001b[1m259s\u001b[0m 6s/step\n",
            "\u001b[1m45/45\u001b[0m \u001b[32m━━━━━━━━━━━━━━━━━━━━\u001b[0m\u001b[37m\u001b[0m \u001b[1m237s\u001b[0m 5s/step\n",
            "\u001b[1m45/45\u001b[0m \u001b[32m━━━━━━━━━━━━━━━━━━━━\u001b[0m\u001b[37m\u001b[0m \u001b[1m97s\u001b[0m 2s/step\n",
            "\u001b[1m20/20\u001b[0m \u001b[32m━━━━━━━━━━━━━━━━━━━━\u001b[0m\u001b[37m\u001b[0m \u001b[1m105s\u001b[0m 5s/step\n",
            "\u001b[1m20/20\u001b[0m \u001b[32m━━━━━━━━━━━━━━━━━━━━\u001b[0m\u001b[37m\u001b[0m \u001b[1m101s\u001b[0m 5s/step\n",
            "\u001b[1m20/20\u001b[0m \u001b[32m━━━━━━━━━━━━━━━━━━━━\u001b[0m\u001b[37m\u001b[0m \u001b[1m42s\u001b[0m 2s/step\n",
            "Epoch 1/20\n"
          ]
        },
        {
          "name": "stderr",
          "output_type": "stream",
          "text": [
            "/usr/local/lib/python3.11/dist-packages/keras/src/layers/core/dense.py:87: UserWarning: Do not pass an `input_shape`/`input_dim` argument to a layer. When using Sequential models, prefer using an `Input(shape)` object as the first layer in the model instead.\n",
            "  super().__init__(activity_regularizer=activity_regularizer, **kwargs)\n"
          ]
        },
        {
          "name": "stdout",
          "output_type": "stream",
          "text": [
            "\u001b[1m45/45\u001b[0m \u001b[32m━━━━━━━━━━━━━━━━━━━━\u001b[0m\u001b[37m\u001b[0m \u001b[1m2s\u001b[0m 3ms/step - accuracy: 0.4766 - loss: 0.7059\n",
            "Epoch 2/20\n",
            "\u001b[1m45/45\u001b[0m \u001b[32m━━━━━━━━━━━━━━━━━━━━\u001b[0m\u001b[37m\u001b[0m \u001b[1m0s\u001b[0m 3ms/step - accuracy: 0.5056 - loss: 0.6935\n",
            "Epoch 3/20\n",
            "\u001b[1m45/45\u001b[0m \u001b[32m━━━━━━━━━━━━━━━━━━━━\u001b[0m\u001b[37m\u001b[0m \u001b[1m0s\u001b[0m 3ms/step - accuracy: 0.5197 - loss: 0.6856\n",
            "Epoch 4/20\n",
            "\u001b[1m45/45\u001b[0m \u001b[32m━━━━━━━━━━━━━━━━━━━━\u001b[0m\u001b[37m\u001b[0m \u001b[1m0s\u001b[0m 2ms/step - accuracy: 0.5741 - loss: 0.6760\n",
            "Epoch 5/20\n",
            "\u001b[1m45/45\u001b[0m \u001b[32m━━━━━━━━━━━━━━━━━━━━\u001b[0m\u001b[37m\u001b[0m \u001b[1m0s\u001b[0m 2ms/step - accuracy: 0.5665 - loss: 0.6766\n",
            "Epoch 6/20\n",
            "\u001b[1m45/45\u001b[0m \u001b[32m━━━━━━━━━━━━━━━━━━━━\u001b[0m\u001b[37m\u001b[0m \u001b[1m0s\u001b[0m 3ms/step - accuracy: 0.5506 - loss: 0.6790\n",
            "Epoch 7/20\n",
            "\u001b[1m45/45\u001b[0m \u001b[32m━━━━━━━━━━━━━━━━━━━━\u001b[0m\u001b[37m\u001b[0m \u001b[1m0s\u001b[0m 2ms/step - accuracy: 0.5745 - loss: 0.6747\n",
            "Epoch 8/20\n",
            "\u001b[1m45/45\u001b[0m \u001b[32m━━━━━━━━━━━━━━━━━━━━\u001b[0m\u001b[37m\u001b[0m \u001b[1m0s\u001b[0m 2ms/step - accuracy: 0.5770 - loss: 0.6679\n",
            "Epoch 9/20\n",
            "\u001b[1m45/45\u001b[0m \u001b[32m━━━━━━━━━━━━━━━━━━━━\u001b[0m\u001b[37m\u001b[0m \u001b[1m0s\u001b[0m 3ms/step - accuracy: 0.6033 - loss: 0.6636\n",
            "Epoch 10/20\n",
            "\u001b[1m45/45\u001b[0m \u001b[32m━━━━━━━━━━━━━━━━━━━━\u001b[0m\u001b[37m\u001b[0m \u001b[1m0s\u001b[0m 4ms/step - accuracy: 0.5948 - loss: 0.6635\n",
            "Epoch 11/20\n",
            "\u001b[1m45/45\u001b[0m \u001b[32m━━━━━━━━━━━━━━━━━━━━\u001b[0m\u001b[37m\u001b[0m \u001b[1m0s\u001b[0m 5ms/step - accuracy: 0.6048 - loss: 0.6605\n",
            "Epoch 12/20\n",
            "\u001b[1m45/45\u001b[0m \u001b[32m━━━━━━━━━━━━━━━━━━━━\u001b[0m\u001b[37m\u001b[0m \u001b[1m0s\u001b[0m 5ms/step - accuracy: 0.6225 - loss: 0.6547\n",
            "Epoch 13/20\n",
            "\u001b[1m45/45\u001b[0m \u001b[32m━━━━━━━━━━━━━━━━━━━━\u001b[0m\u001b[37m\u001b[0m \u001b[1m0s\u001b[0m 4ms/step - accuracy: 0.6183 - loss: 0.6508\n",
            "Epoch 14/20\n",
            "\u001b[1m45/45\u001b[0m \u001b[32m━━━━━━━━━━━━━━━━━━━━\u001b[0m\u001b[37m\u001b[0m \u001b[1m0s\u001b[0m 4ms/step - accuracy: 0.6245 - loss: 0.6502\n",
            "Epoch 15/20\n",
            "\u001b[1m45/45\u001b[0m \u001b[32m━━━━━━━━━━━━━━━━━━━━\u001b[0m\u001b[37m\u001b[0m \u001b[1m0s\u001b[0m 4ms/step - accuracy: 0.5942 - loss: 0.6612\n",
            "Epoch 16/20\n",
            "\u001b[1m45/45\u001b[0m \u001b[32m━━━━━━━━━━━━━━━━━━━━\u001b[0m\u001b[37m\u001b[0m \u001b[1m0s\u001b[0m 4ms/step - accuracy: 0.6347 - loss: 0.6402\n",
            "Epoch 17/20\n",
            "\u001b[1m45/45\u001b[0m \u001b[32m━━━━━━━━━━━━━━━━━━━━\u001b[0m\u001b[37m\u001b[0m \u001b[1m0s\u001b[0m 4ms/step - accuracy: 0.6502 - loss: 0.6331\n",
            "Epoch 18/20\n",
            "\u001b[1m45/45\u001b[0m \u001b[32m━━━━━━━━━━━━━━━━━━━━\u001b[0m\u001b[37m\u001b[0m \u001b[1m0s\u001b[0m 4ms/step - accuracy: 0.6159 - loss: 0.6466\n",
            "Epoch 19/20\n",
            "\u001b[1m45/45\u001b[0m \u001b[32m━━━━━━━━━━━━━━━━━━━━\u001b[0m\u001b[37m\u001b[0m \u001b[1m0s\u001b[0m 5ms/step - accuracy: 0.6259 - loss: 0.6483\n",
            "Epoch 20/20\n",
            "\u001b[1m45/45\u001b[0m \u001b[32m━━━━━━━━━━━━━━━━━━━━\u001b[0m\u001b[37m\u001b[0m \u001b[1m0s\u001b[0m 4ms/step - accuracy: 0.6038 - loss: 0.6502\n",
            "\u001b[1m20/20\u001b[0m \u001b[32m━━━━━━━━━━━━━━━━━━━━\u001b[0m\u001b[37m\u001b[0m \u001b[1m0s\u001b[0m 4ms/step\n",
            "\n",
            "Neural Network Meta-Model Performance:\n",
            "Accuracy: 0.6248\n",
            "Precision: 0.6361\n",
            "Recall: 0.6831\n",
            "F1 Score: 0.6588\n"
          ]
        },
        {
          "data": {
            "image/png": "[encoded data removed]",
            "text/plain": [
              "<Figure size 640x480 with 2 Axes>"
            ]
          },
          "metadata": {},
          "output_type": "display_data"
        }
      ],
      "source": [
        "import numpy as np\n",
        "import seaborn as sns\n",
        "import matplotlib.pyplot as plt\n",
        "from sklearn.metrics import accuracy_score, precision_score, recall_score, f1_score, confusion_matrix\n",
        "from xgboost import XGBClassifier\n",
        "from tensorflow.keras.models import Sequential\n",
        "from tensorflow.keras.layers import Dense, Dropout\n",
        "\n",
        "# Step 1: Extract predictions from base models\n",
        "def get_predictions(model, X):\n",
        "    return model.predict(X)\n",
        "\n",
        "# Get predictions for training and test data\n",
        "resnet_train_preds = get_predictions(model_resnet50, X_train)\n",
        "densenet_train_preds = get_predictions(model_densenet, X_train)\n",
        "efficientnet_train_preds = get_predictions(model_efficientnetB0, X_train)\n",
        "\n",
        "resnet_test_preds = get_predictions(model_resnet50, X_test)\n",
        "densenet_test_preds = get_predictions(model_densenet, X_test)\n",
        "efficientnet_test_preds = get_predictions(model_efficientnetB0, X_test)\n",
        "\n",
        "# Step 2: Combine predictions horizontally\n",
        "X_final_train = np.column_stack((resnet_train_preds, densenet_train_preds, efficientnet_train_preds))\n",
        "X_final_test = np.column_stack((resnet_test_preds, densenet_test_preds, efficientnet_test_preds))\n",
        "\n",
        "### **Meta-Model 2: Neural Network (MLP)**\n",
        "mlp_meta_model = Sequential([\n",
        "    Dense(16, activation='relu', input_shape=(X_final_train.shape[1],)),\n",
        "    Dropout(0.2),\n",
        "    Dense(8, activation='relu'),\n",
        "    Dense(1, activation='sigmoid')  # Binary classification\n",
        "])\n",
        "\n",
        "mlp_meta_model.compile(optimizer='adam', loss='binary_crossentropy', metrics=['accuracy'])\n",
        "\n",
        "# Train Neural Network Meta-Model\n",
        "mlp_meta_model.fit(X_final_train, y_train, epochs=20, batch_size=32, verbose=1)\n",
        "\n",
        "# Predictions\n",
        "y_pred_mlp = (mlp_meta_model.predict(X_final_test) > 0.5).astype(\"int32\")\n",
        "\n",
        "# Evaluation Metrics\n",
        "accuracy_mlp = accuracy_score(y_test, y_pred_mlp)\n",
        "precision_mlp = precision_score(y_test, y_pred_mlp)\n",
        "recall_mlp = recall_score(y_test, y_pred_mlp)\n",
        "f1_mlp = f1_score(y_test, y_pred_mlp)\n",
        "\n",
        "print(\"\\nNeural Network Meta-Model Performance:\")\n",
        "print(f\"Accuracy: {accuracy_mlp:.4f}\")\n",
        "print(f\"Precision: {precision_mlp:.4f}\")\n",
        "print(f\"Recall: {recall_mlp:.4f}\")\n",
        "print(f\"F1 Score: {f1_mlp:.4f}\")\n",
        "\n",
        "# Confusion Matrix for Neural Network\n",
        "conf_matrix_mlp = confusion_matrix(y_test, y_pred_mlp)\n",
        "sns.heatmap(conf_matrix_mlp, annot=True, fmt='d', cmap='Blues', xticklabels=['Fake', 'Real'], yticklabels=['Fake', 'Real'])\n",
        "plt.xlabel('Predicted')\n",
        "plt.ylabel('Actual')\n",
        "plt.title('Neural Network Confusion Matrix')\n",
        "plt.show()\n"
      ]
    },
    {
      "cell_type": "code",
      "source": [
        "import numpy as np\n",
        "import seaborn as sns\n",
        "import matplotlib.pyplot as plt\n",
        "from sklearn.metrics import accuracy_score, precision_score, recall_score, f1_score, confusion_matrix\n",
        "from tensorflow.keras.models import Model\n",
        "from tensorflow.keras.layers import Input, Dense, Dropout, Concatenate\n",
        "from tensorflow.keras.applications import ResNet50\n",
        "from tensorflow.keras.optimizers import Adam\n",
        "\n",
        "# Step 1: Extract predictions from base models\n",
        "def get_predictions(model, X):\n",
        "    return model.predict(X)\n",
        "\n",
        "# Get predictions for training and test data\n",
        "resnet_train_preds = get_predictions(model_resnet50, X_train)\n",
        "densenet_train_preds = get_predictions(model_densenet, X_train)\n",
        "efficientnet_train_preds = get_predictions(model_efficientnetB0, X_train)\n",
        "\n",
        "resnet_test_preds = get_predictions(model_resnet50, X_test)\n",
        "densenet_test_preds = get_predictions(model_densenet, X_test)\n",
        "efficientnet_test_preds = get_predictions(model_efficientnetB0, X_test)\n",
        "\n",
        "# Step 2: Combine predictions horizontally\n",
        "X_final_train = np.column_stack((resnet_train_preds, densenet_train_preds, efficientnet_train_preds))\n",
        "X_final_test = np.column_stack((resnet_test_preds, densenet_test_preds, efficientnet_test_preds))\n",
        "\n",
        "### **Meta-Model: ResNet50-like MLP**\n",
        "inputs = Input(shape=(X_final_train.shape[1],))\n",
        "\n",
        "# ResNet50-inspired dense layers\n",
        "x = Dense(512, activation='relu')(inputs)\n",
        "x = Dropout(0.3)(x)\n",
        "x = Dense(256, activation='relu')(x)\n",
        "x = Dropout(0.3)(x)\n",
        "x = Dense(128, activation='relu')(x)\n",
        "x = Dropout(0.3)(x)\n",
        "outputs = Dense(1, activation='sigmoid')(x)  # Binary classification\n",
        "\n",
        "# Define the Model\n",
        "resnet_meta_model = Model(inputs=inputs, outputs=outputs)\n",
        "\n",
        "# Compile Model\n",
        "resnet_meta_model.compile(optimizer=Adam(learning_rate=0.001), loss='binary_crossentropy', metrics=['accuracy'])\n",
        "\n",
        "# Train ResNet-like Meta-Model\n",
        "resnet_meta_model.fit(X_final_train, y_train, epochs=20, batch_size=32, verbose=1)\n",
        "\n",
        "# Predictions\n",
        "y_pred_resnet = (resnet_meta_model.predict(X_final_test) > 0.5).astype(\"int32\")\n",
        "\n",
        "# Evaluation Metrics\n",
        "accuracy_resnet = accuracy_score(y_test, y_pred_resnet)\n",
        "precision_resnet = precision_score(y_test, y_pred_resnet)\n",
        "recall_resnet = recall_score(y_test, y_pred_resnet)\n",
        "f1_resnet = f1_score(y_test, y_pred_resnet)\n",
        "\n",
        "print(\"\\nResNet50-like Meta-Model Performance:\")\n",
        "print(f\"Accuracy: {accuracy_resnet:.4f}\")\n",
        "print(f\"Precision: {precision_resnet:.4f}\")\n",
        "print(f\"Recall: {recall_resnet:.4f}\")\n",
        "print(f\"F1 Score: {f1_resnet:.4f}\")\n",
        "\n",
        "# Confusion Matrix for ResNet Meta-Model\n",
        "conf_matrix_resnet = confusion_matrix(y_test, y_pred_resnet)\n",
        "sns.heatmap(conf_matrix_resnet, annot=True, fmt='d', cmap='Blues', xticklabels=['Fake', 'Real'], yticklabels=['Fake', 'Real'])\n",
        "plt.xlabel('Predicted')\n",
        "plt.ylabel('Actual')\n",
        "plt.title('ResNet50-like Confusion Matrix')\n",
        "plt.show()\n"
      ],
      "metadata": {
        "colab": {
          "base_uri": "https://localhost:8080/",
          "height": 1000
        },
        "id": "rsEiDH1NIjjR",
        "outputId": "04bbd6e2-85b6-46c9-8efc-4f435e9880a3"
      },
      "execution_count": null,
      "outputs": [
        {
          "output_type": "stream",
          "name": "stdout",
          "text": [
            "\u001b[1m45/45\u001b[0m \u001b[32m━━━━━━━━━━━━━━━━━━━━\u001b[0m\u001b[37m\u001b[0m \u001b[1m170s\u001b[0m 4s/step\n",
            "\u001b[1m45/45\u001b[0m \u001b[32m━━━━━━━━━━━━━━━━━━━━\u001b[0m\u001b[37m\u001b[0m \u001b[1m157s\u001b[0m 3s/step\n",
            "\u001b[1m45/45\u001b[0m \u001b[32m━━━━━━━━━━━━━━━━━━━━\u001b[0m\u001b[37m\u001b[0m \u001b[1m60s\u001b[0m 1s/step\n",
            "\u001b[1m20/20\u001b[0m \u001b[32m━━━━━━━━━━━━━━━━━━━━\u001b[0m\u001b[37m\u001b[0m \u001b[1m69s\u001b[0m 3s/step\n",
            "\u001b[1m20/20\u001b[0m \u001b[32m━━━━━━━━━━━━━━━━━━━━\u001b[0m\u001b[37m\u001b[0m \u001b[1m65s\u001b[0m 3s/step\n",
            "\u001b[1m20/20\u001b[0m \u001b[32m━━━━━━━━━━━━━━━━━━━━\u001b[0m\u001b[37m\u001b[0m \u001b[1m25s\u001b[0m 1s/step\n",
            "Epoch 1/20\n",
            "\u001b[1m45/45\u001b[0m \u001b[32m━━━━━━━━━━━━━━━━━━━━\u001b[0m\u001b[37m\u001b[0m \u001b[1m1s\u001b[0m 4ms/step - accuracy: 0.5140 - loss: 0.6882\n",
            "Epoch 2/20\n",
            "\u001b[1m45/45\u001b[0m \u001b[32m━━━━━━━━━━━━━━━━━━━━\u001b[0m\u001b[37m\u001b[0m \u001b[1m0s\u001b[0m 4ms/step - accuracy: 0.6145 - loss: 0.6620\n",
            "Epoch 3/20\n",
            "\u001b[1m45/45\u001b[0m \u001b[32m━━━━━━━━━━━━━━━━━━━━\u001b[0m\u001b[37m\u001b[0m \u001b[1m0s\u001b[0m 4ms/step - accuracy: 0.6265 - loss: 0.6465\n",
            "Epoch 4/20\n",
            "\u001b[1m45/45\u001b[0m \u001b[32m━━━━━━━━━━━━━━━━━━━━\u001b[0m\u001b[37m\u001b[0m \u001b[1m0s\u001b[0m 3ms/step - accuracy: 0.6569 - loss: 0.6276\n",
            "Epoch 5/20\n",
            "\u001b[1m45/45\u001b[0m \u001b[32m━━━━━━━━━━━━━━━━━━━━\u001b[0m\u001b[37m\u001b[0m \u001b[1m0s\u001b[0m 4ms/step - accuracy: 0.6218 - loss: 0.6469\n",
            "Epoch 6/20\n",
            "\u001b[1m45/45\u001b[0m \u001b[32m━━━━━━━━━━━━━━━━━━━━\u001b[0m\u001b[37m\u001b[0m \u001b[1m0s\u001b[0m 4ms/step - accuracy: 0.6508 - loss: 0.6293\n",
            "Epoch 7/20\n",
            "\u001b[1m45/45\u001b[0m \u001b[32m━━━━━━━━━━━━━━━━━━━━\u001b[0m\u001b[37m\u001b[0m \u001b[1m0s\u001b[0m 3ms/step - accuracy: 0.6445 - loss: 0.6321\n",
            "Epoch 8/20\n",
            "\u001b[1m45/45\u001b[0m \u001b[32m━━━━━━━━━━━━━━━━━━━━\u001b[0m\u001b[37m\u001b[0m \u001b[1m0s\u001b[0m 4ms/step - accuracy: 0.6422 - loss: 0.6237\n",
            "Epoch 9/20\n",
            "\u001b[1m45/45\u001b[0m \u001b[32m━━━━━━━━━━━━━━━━━━━━\u001b[0m\u001b[37m\u001b[0m \u001b[1m0s\u001b[0m 4ms/step - accuracy: 0.6517 - loss: 0.6207\n",
            "Epoch 10/20\n",
            "\u001b[1m45/45\u001b[0m \u001b[32m━━━━━━━━━━━━━━━━━━━━\u001b[0m\u001b[37m\u001b[0m \u001b[1m0s\u001b[0m 4ms/step - accuracy: 0.6760 - loss: 0.6212\n",
            "Epoch 11/20\n",
            "\u001b[1m45/45\u001b[0m \u001b[32m━━━━━━━━━━━━━━━━━━━━\u001b[0m\u001b[37m\u001b[0m \u001b[1m0s\u001b[0m 6ms/step - accuracy: 0.6559 - loss: 0.6320\n",
            "Epoch 12/20\n",
            "\u001b[1m45/45\u001b[0m \u001b[32m━━━━━━━━━━━━━━━━━━━━\u001b[0m\u001b[37m\u001b[0m \u001b[1m0s\u001b[0m 7ms/step - accuracy: 0.6390 - loss: 0.6283\n",
            "Epoch 13/20\n",
            "\u001b[1m45/45\u001b[0m \u001b[32m━━━━━━━━━━━━━━━━━━━━\u001b[0m\u001b[37m\u001b[0m \u001b[1m1s\u001b[0m 7ms/step - accuracy: 0.6615 - loss: 0.6282\n",
            "Epoch 14/20\n",
            "\u001b[1m45/45\u001b[0m \u001b[32m━━━━━━━━━━━━━━━━━━━━\u001b[0m\u001b[37m\u001b[0m \u001b[1m0s\u001b[0m 4ms/step - accuracy: 0.6437 - loss: 0.6317\n",
            "Epoch 15/20\n",
            "\u001b[1m45/45\u001b[0m \u001b[32m━━━━━━━━━━━━━━━━━━━━\u001b[0m\u001b[37m\u001b[0m \u001b[1m0s\u001b[0m 3ms/step - accuracy: 0.6598 - loss: 0.6269\n",
            "Epoch 16/20\n",
            "\u001b[1m45/45\u001b[0m \u001b[32m━━━━━━━━━━━━━━━━━━━━\u001b[0m\u001b[37m\u001b[0m \u001b[1m0s\u001b[0m 4ms/step - accuracy: 0.6428 - loss: 0.6398\n",
            "Epoch 17/20\n",
            "\u001b[1m45/45\u001b[0m \u001b[32m━━━━━━━━━━━━━━━━━━━━\u001b[0m\u001b[37m\u001b[0m \u001b[1m0s\u001b[0m 4ms/step - accuracy: 0.6321 - loss: 0.6398\n",
            "Epoch 18/20\n",
            "\u001b[1m45/45\u001b[0m \u001b[32m━━━━━━━━━━━━━━━━━━━━\u001b[0m\u001b[37m\u001b[0m \u001b[1m0s\u001b[0m 4ms/step - accuracy: 0.6625 - loss: 0.6167\n",
            "Epoch 19/20\n",
            "\u001b[1m45/45\u001b[0m \u001b[32m━━━━━━━━━━━━━━━━━━━━\u001b[0m\u001b[37m\u001b[0m \u001b[1m0s\u001b[0m 4ms/step - accuracy: 0.6201 - loss: 0.6407\n",
            "Epoch 20/20\n",
            "\u001b[1m45/45\u001b[0m \u001b[32m━━━━━━━━━━━━━━━━━━━━\u001b[0m\u001b[37m\u001b[0m \u001b[1m0s\u001b[0m 4ms/step - accuracy: 0.6378 - loss: 0.6318\n",
            "\u001b[1m20/20\u001b[0m \u001b[32m━━━━━━━━━━━━━━━━━━━━\u001b[0m\u001b[37m\u001b[0m \u001b[1m0s\u001b[0m 3ms/step \n",
            "\n",
            "ResNet50-like Meta-Model Performance:\n",
            "Accuracy: 0.6264\n",
            "Precision: 0.6263\n",
            "Recall: 0.7323\n",
            "F1 Score: 0.6752\n"
          ]
        },
        {
          "output_type": "display_data",
          "data": {
            "text/plain": [
              "<Figure size 640x480 with 2 Axes>"
            ],
            "image/png": "[encoded data removed]"
          },
          "metadata": {}
        }
      ]
    },
    {
      "cell_type": "code",
      "source": [
        "import numpy as np\n",
        "import seaborn as sns\n",
        "import matplotlib.pyplot as plt\n",
        "from sklearn.metrics import accuracy_score, precision_score, recall_score, f1_score, confusion_matrix\n",
        "from tensorflow.keras.models import Model\n",
        "from tensorflow.keras.layers import Input, Dense, Dropout, Concatenate\n",
        "from tensorflow.keras.applications import DenseNet121\n",
        "from tensorflow.keras.optimizers import Adam\n",
        "\n",
        "# Step 1: Extract predictions from base models\n",
        "def get_predictions(model, X):\n",
        "    return model.predict(X)\n",
        "\n",
        "# Get predictions for training and test data\n",
        "resnet_train_preds = get_predictions(model_resnet50, X_train)\n",
        "densenet_train_preds = get_predictions(model_densenet, X_train)\n",
        "efficientnet_train_preds = get_predictions(model_efficientnetB0, X_train)\n",
        "\n",
        "resnet_test_preds = get_predictions(model_resnet50, X_test)\n",
        "densenet_test_preds = get_predictions(model_densenet, X_test)\n",
        "efficientnet_test_preds = get_predictions(model_efficientnetB0, X_test)\n",
        "\n",
        "# Step 2: Combine predictions horizontally\n",
        "X_final_train = np.column_stack((resnet_train_preds, densenet_train_preds, efficientnet_train_preds))\n",
        "X_final_test = np.column_stack((resnet_test_preds, densenet_test_preds, efficientnet_test_preds))\n",
        "\n",
        "### **Meta-Model: DenseNet-like MLP**\n",
        "inputs = Input(shape=(X_final_train.shape[1],))\n",
        "\n",
        "# DenseNet-inspired dense layers\n",
        "x = Dense(256, activation='relu')(inputs)\n",
        "x = Dropout(0.3)(x)\n",
        "x = Dense(128, activation='relu')(x)\n",
        "x = Dropout(0.3)(x)\n",
        "x = Dense(64, activation='relu')(x)\n",
        "x = Dropout(0.3)(x)\n",
        "outputs = Dense(1, activation='sigmoid')(x)  # Binary classification\n",
        "\n",
        "# Define the Model\n",
        "densenet_meta_model = Model(inputs=inputs, outputs=outputs)\n",
        "\n",
        "# Compile Model\n",
        "densenet_meta_model.compile(optimizer=Adam(learning_rate=0.001), loss='binary_crossentropy', metrics=['accuracy'])\n",
        "\n",
        "# Train DenseNet-like Meta-Model\n",
        "densenet_meta_model.fit(X_final_train, y_train, epochs=20, batch_size=32, verbose=1)\n",
        "\n",
        "# Predictions\n",
        "y_pred_densenet = (densenet_meta_model.predict(X_final_test) > 0.5).astype(\"int32\")\n",
        "\n",
        "# Evaluation Metrics\n",
        "accuracy_densenet = accuracy_score(y_test, y_pred_densenet)\n",
        "precision_densenet = precision_score(y_test, y_pred_densenet)\n",
        "recall_densenet = recall_score(y_test, y_pred_densenet)\n",
        "f1_densenet = f1_score(y_test, y_pred_densenet)\n",
        "\n",
        "print(\"\\nDenseNet-like Meta-Model Performance:\")\n",
        "print(f\"Accuracy: {accuracy_densenet:.4f}\")\n",
        "print(f\"Precision: {precision_densenet:.4f}\")\n",
        "print(f\"Recall: {recall_densenet:.4f}\")\n",
        "print(f\"F1 Score: {f1_densenet:.4f}\")\n",
        "\n",
        "# Confusion Matrix for DenseNet Meta-Model\n",
        "conf_matrix_densenet = confusion_matrix(y_test, y_pred_densenet)\n",
        "sns.heatmap(conf_matrix_densenet, annot=True, fmt='d', cmap='Blues', xticklabels=['Fake', 'Real'], yticklabels=['Fake', 'Real'])\n",
        "plt.xlabel('Predicted')\n",
        "plt.ylabel('Actual')\n",
        "plt.title('DenseNet-like Confusion Matrix')\n",
        "plt.show()"
      ],
      "metadata": {
        "colab": {
          "base_uri": "https://localhost:8080/",
          "height": 1000
        },
        "id": "8lYBHRZ1IkdQ",
        "outputId": "9d26714d-16b5-4698-d951-1eb188bd915f"
      },
      "execution_count": null,
      "outputs": [
        {
          "output_type": "stream",
          "name": "stdout",
          "text": [
            "\u001b[1m45/45\u001b[0m \u001b[32m━━━━━━━━━━━━━━━━━━━━\u001b[0m\u001b[37m\u001b[0m \u001b[1m158s\u001b[0m 4s/step\n",
            "\u001b[1m45/45\u001b[0m \u001b[32m━━━━━━━━━━━━━━━━━━━━\u001b[0m\u001b[37m\u001b[0m \u001b[1m148s\u001b[0m 3s/step\n",
            "\u001b[1m45/45\u001b[0m \u001b[32m━━━━━━━━━━━━━━━━━━━━\u001b[0m\u001b[37m\u001b[0m \u001b[1m62s\u001b[0m 1s/step\n",
            "\u001b[1m20/20\u001b[0m \u001b[32m━━━━━━━━━━━━━━━━━━━━\u001b[0m\u001b[37m\u001b[0m \u001b[1m68s\u001b[0m 3s/step\n",
            "\u001b[1m20/20\u001b[0m \u001b[32m━━━━━━━━━━━━━━━━━━━━\u001b[0m\u001b[37m\u001b[0m \u001b[1m65s\u001b[0m 3s/step\n",
            "\u001b[1m20/20\u001b[0m \u001b[32m━━━━━━━━━━━━━━━━━━━━\u001b[0m\u001b[37m\u001b[0m \u001b[1m24s\u001b[0m 1s/step\n",
            "Epoch 1/20\n",
            "\u001b[1m45/45\u001b[0m \u001b[32m━━━━━━━━━━━━━━━━━━━━\u001b[0m\u001b[37m\u001b[0m \u001b[1m2s\u001b[0m 3ms/step - accuracy: 0.5154 - loss: 0.6899\n",
            "Epoch 2/20\n",
            "\u001b[1m45/45\u001b[0m \u001b[32m━━━━━━━━━━━━━━━━━━━━\u001b[0m\u001b[37m\u001b[0m \u001b[1m0s\u001b[0m 3ms/step - accuracy: 0.6179 - loss: 0.6632\n",
            "Epoch 3/20\n",
            "\u001b[1m45/45\u001b[0m \u001b[32m━━━━━━━━━━━━━━━━━━━━\u001b[0m\u001b[37m\u001b[0m \u001b[1m0s\u001b[0m 2ms/step - accuracy: 0.6250 - loss: 0.6475\n",
            "Epoch 4/20\n",
            "\u001b[1m45/45\u001b[0m \u001b[32m━━━━━━━━━━━━━━━━━━━━\u001b[0m\u001b[37m\u001b[0m \u001b[1m0s\u001b[0m 2ms/step - accuracy: 0.6511 - loss: 0.6336\n",
            "Epoch 5/20\n",
            "\u001b[1m45/45\u001b[0m \u001b[32m━━━━━━━━━━━━━━━━━━━━\u001b[0m\u001b[37m\u001b[0m \u001b[1m0s\u001b[0m 2ms/step - accuracy: 0.6555 - loss: 0.6309\n",
            "Epoch 6/20\n",
            "\u001b[1m45/45\u001b[0m \u001b[32m━━━━━━━━━━━━━━━━━━━━\u001b[0m\u001b[37m\u001b[0m \u001b[1m0s\u001b[0m 2ms/step - accuracy: 0.6413 - loss: 0.6255\n",
            "Epoch 7/20\n",
            "\u001b[1m45/45\u001b[0m \u001b[32m━━━━━━━━━━━━━━━━━━━━\u001b[0m\u001b[37m\u001b[0m \u001b[1m0s\u001b[0m 2ms/step - accuracy: 0.6552 - loss: 0.6230\n",
            "Epoch 8/20\n",
            "\u001b[1m45/45\u001b[0m \u001b[32m━━━━━━━━━━━━━━━━━━━━\u001b[0m\u001b[37m\u001b[0m \u001b[1m0s\u001b[0m 2ms/step - accuracy: 0.6762 - loss: 0.6106\n",
            "Epoch 9/20\n",
            "\u001b[1m45/45\u001b[0m \u001b[32m━━━━━━━━━━━━━━━━━━━━\u001b[0m\u001b[37m\u001b[0m \u001b[1m0s\u001b[0m 2ms/step - accuracy: 0.6354 - loss: 0.6346\n",
            "Epoch 10/20\n",
            "\u001b[1m45/45\u001b[0m \u001b[32m━━━━━━━━━━━━━━━━━━━━\u001b[0m\u001b[37m\u001b[0m \u001b[1m0s\u001b[0m 3ms/step - accuracy: 0.6309 - loss: 0.6422\n",
            "Epoch 11/20\n",
            "\u001b[1m45/45\u001b[0m \u001b[32m━━━━━━━━━━━━━━━━━━━━\u001b[0m\u001b[37m\u001b[0m \u001b[1m0s\u001b[0m 2ms/step - accuracy: 0.6284 - loss: 0.6316\n",
            "Epoch 12/20\n",
            "\u001b[1m45/45\u001b[0m \u001b[32m━━━━━━━━━━━━━━━━━━━━\u001b[0m\u001b[37m\u001b[0m \u001b[1m0s\u001b[0m 2ms/step - accuracy: 0.6430 - loss: 0.6371\n",
            "Epoch 13/20\n",
            "\u001b[1m45/45\u001b[0m \u001b[32m━━━━━━━━━━━━━━━━━━━━\u001b[0m\u001b[37m\u001b[0m \u001b[1m0s\u001b[0m 2ms/step - accuracy: 0.6389 - loss: 0.6379\n",
            "Epoch 14/20\n",
            "\u001b[1m45/45\u001b[0m \u001b[32m━━━━━━━━━━━━━━━━━━━━\u001b[0m\u001b[37m\u001b[0m \u001b[1m0s\u001b[0m 2ms/step - accuracy: 0.6150 - loss: 0.6276\n",
            "Epoch 15/20\n",
            "\u001b[1m45/45\u001b[0m \u001b[32m━━━━━━━━━━━━━━━━━━━━\u001b[0m\u001b[37m\u001b[0m \u001b[1m0s\u001b[0m 2ms/step - accuracy: 0.6476 - loss: 0.6172\n",
            "Epoch 16/20\n",
            "\u001b[1m45/45\u001b[0m \u001b[32m━━━━━━━━━━━━━━━━━━━━\u001b[0m\u001b[37m\u001b[0m \u001b[1m0s\u001b[0m 2ms/step - accuracy: 0.6371 - loss: 0.6313\n",
            "Epoch 17/20\n",
            "\u001b[1m45/45\u001b[0m \u001b[32m━━━━━━━━━━━━━━━━━━━━\u001b[0m\u001b[37m\u001b[0m \u001b[1m0s\u001b[0m 2ms/step - accuracy: 0.6612 - loss: 0.6306\n",
            "Epoch 18/20\n",
            "\u001b[1m45/45\u001b[0m \u001b[32m━━━━━━━━━━━━━━━━━━━━\u001b[0m\u001b[37m\u001b[0m \u001b[1m0s\u001b[0m 2ms/step - accuracy: 0.6390 - loss: 0.6291\n",
            "Epoch 19/20\n",
            "\u001b[1m45/45\u001b[0m \u001b[32m━━━━━━━━━━━━━━━━━━━━\u001b[0m\u001b[37m\u001b[0m \u001b[1m0s\u001b[0m 2ms/step - accuracy: 0.6350 - loss: 0.6323\n",
            "Epoch 20/20\n",
            "\u001b[1m45/45\u001b[0m \u001b[32m━━━━━━━━━━━━━━━━━━━━\u001b[0m\u001b[37m\u001b[0m \u001b[1m0s\u001b[0m 2ms/step - accuracy: 0.6492 - loss: 0.6178\n",
            "\u001b[1m20/20\u001b[0m \u001b[32m━━━━━━━━━━━━━━━━━━━━\u001b[0m\u001b[37m\u001b[0m \u001b[1m0s\u001b[0m 3ms/step \n",
            "\n",
            "DenseNet-like Meta-Model Performance:\n",
            "Accuracy: 0.6232\n",
            "Precision: 0.6567\n",
            "Recall: 0.6062\n",
            "F1 Score: 0.6304\n"
          ]
        },
        {
          "output_type": "display_data",
          "data": {
            "text/plain": [
              "<Figure size 640x480 with 2 Axes>"
            ],
            "image/png": "[encoded data removed]"
          },
          "metadata": {}
        }
      ]
    },
    {
      "cell_type": "code",
      "source": [
        "import numpy as np\n",
        "import seaborn as sns\n",
        "import matplotlib.pyplot as plt\n",
        "from sklearn.metrics import accuracy_score, precision_score, recall_score, f1_score, confusion_matrix\n",
        "from tensorflow.keras.models import Model\n",
        "from tensorflow.keras.layers import Input, Dense, Dropout, Concatenate\n",
        "from tensorflow.keras.applications import EfficientNetB0\n",
        "from tensorflow.keras.optimizers import Adam\n",
        "\n",
        "# Step 1: Extract predictions from base models\n",
        "def get_predictions(model, X):\n",
        "    return model.predict(X)\n",
        "\n",
        "# Get predictions for training and test data\n",
        "resnet_train_preds = get_predictions(model_resnet50, X_train)\n",
        "densenet_train_preds = get_predictions(model_densenet, X_train)\n",
        "efficientnet_train_preds = get_predictions(model_efficientnetB0, X_train)\n",
        "\n",
        "resnet_test_preds = get_predictions(model_resnet50, X_test)\n",
        "densenet_test_preds = get_predictions(model_densenet, X_test)\n",
        "efficientnet_test_preds = get_predictions(model_efficientnetB0, X_test)\n",
        "\n",
        "# Step 2: Combine predictions horizontally\n",
        "X_final_train = np.column_stack((resnet_train_preds, densenet_train_preds, efficientnet_train_preds))\n",
        "X_final_test = np.column_stack((resnet_test_preds, densenet_test_preds, efficientnet_test_preds))\n",
        "\n",
        "### **Meta-Model: EfficientNetB0-like MLP**\n",
        "inputs = Input(shape=(X_final_train.shape[1],))\n",
        "\n",
        "# EfficientNet-inspired dense layers\n",
        "x = Dense(256, activation='swish')(inputs)\n",
        "x = Dropout(0.3)(x)\n",
        "x = Dense(128, activation='swish')(x)\n",
        "x = Dropout(0.3)(x)\n",
        "x = Dense(64, activation='swish')(x)\n",
        "x = Dropout(0.3)(x)\n",
        "outputs = Dense(1, activation='sigmoid')(x)  # Binary classification\n",
        "\n",
        "# Define the Model\n",
        "efficientnet_meta_model = Model(inputs=inputs, outputs=outputs)\n",
        "\n",
        "# Compile Model\n",
        "efficientnet_meta_model.compile(optimizer=Adam(learning_rate=0.001), loss='binary_crossentropy', metrics=['accuracy'])\n",
        "\n",
        "# Train EfficientNetB0-like Meta-Model\n",
        "efficientnet_meta_model.fit(X_final_train, y_train, epochs=20, batch_size=32, verbose=1)\n",
        "\n",
        "# Predictions\n",
        "y_pred_efficientnet = (efficientnet_meta_model.predict(X_final_test) > 0.5).astype(\"int32\")\n",
        "\n",
        "# Evaluation Metrics\n",
        "accuracy_efficientnet = accuracy_score(y_test, y_pred_efficientnet)\n",
        "precision_efficientnet = precision_score(y_test, y_pred_efficientnet)\n",
        "recall_efficientnet = recall_score(y_test, y_pred_efficientnet)\n",
        "f1_efficientnet = f1_score(y_test, y_pred_efficientnet)\n",
        "\n",
        "print(\"\\nEfficientNetB0-like Meta-Model Performance:\")\n",
        "print(f\"Accuracy: {accuracy_efficientnet:.4f}\")\n",
        "print(f\"Precision: {precision_efficientnet:.4f}\")\n",
        "print(f\"Recall: {recall_efficientnet:.4f}\")\n",
        "print(f\"F1 Score: {f1_efficientnet:.4f}\")\n",
        "\n",
        "# Confusion Matrix for EfficientNet Meta-Model\n",
        "conf_matrix_efficientnet = confusion_matrix(y_test, y_pred_efficientnet)\n",
        "sns.heatmap(conf_matrix_efficientnet, annot=True, fmt='d', cmap='Blues', xticklabels=['Fake', 'Real'], yticklabels=['Fake', 'Real'])\n",
        "plt.xlabel('Predicted')\n",
        "plt.ylabel('Actual')\n",
        "plt.title('EfficientNetB0-like Confusion Matrix')\n",
        "plt.show()\n"
      ],
      "metadata": {
        "colab": {
          "base_uri": "https://localhost:8080/",
          "height": 1000
        },
        "id": "IdZ50dZCIzQc",
        "outputId": "7e9794ee-7bd9-4470-fcc5-9867afd79b1e"
      },
      "execution_count": null,
      "outputs": [
        {
          "output_type": "stream",
          "name": "stdout",
          "text": [
            "\u001b[1m45/45\u001b[0m \u001b[32m━━━━━━━━━━━━━━━━━━━━\u001b[0m\u001b[37m\u001b[0m \u001b[1m159s\u001b[0m 3s/step\n",
            "\u001b[1m45/45\u001b[0m \u001b[32m━━━━━━━━━━━━━━━━━━━━\u001b[0m\u001b[37m\u001b[0m \u001b[1m148s\u001b[0m 3s/step\n",
            "\u001b[1m45/45\u001b[0m \u001b[32m━━━━━━━━━━━━━━━━━━━━\u001b[0m\u001b[37m\u001b[0m \u001b[1m57s\u001b[0m 1s/step\n",
            "\u001b[1m20/20\u001b[0m \u001b[32m━━━━━━━━━━━━━━━━━━━━\u001b[0m\u001b[37m\u001b[0m \u001b[1m68s\u001b[0m 3s/step\n",
            "\u001b[1m20/20\u001b[0m \u001b[32m━━━━━━━━━━━━━━━━━━━━\u001b[0m\u001b[37m\u001b[0m \u001b[1m65s\u001b[0m 3s/step\n",
            "\u001b[1m20/20\u001b[0m \u001b[32m━━━━━━━━━━━━━━━━━━━━\u001b[0m\u001b[37m\u001b[0m \u001b[1m25s\u001b[0m 1s/step\n",
            "Epoch 1/20\n",
            "\u001b[1m45/45\u001b[0m \u001b[32m━━━━━━━━━━━━━━━━━━━━\u001b[0m\u001b[37m\u001b[0m \u001b[1m1s\u001b[0m 2ms/step - accuracy: 0.5286 - loss: 0.6896\n",
            "Epoch 2/20\n",
            "\u001b[1m45/45\u001b[0m \u001b[32m━━━━━━━━━━━━━━━━━━━━\u001b[0m\u001b[37m\u001b[0m \u001b[1m0s\u001b[0m 2ms/step - accuracy: 0.5872 - loss: 0.6669\n",
            "Epoch 3/20\n",
            "\u001b[1m45/45\u001b[0m \u001b[32m━━━━━━━━━━━━━━━━━━━━\u001b[0m\u001b[37m\u001b[0m \u001b[1m0s\u001b[0m 2ms/step - accuracy: 0.6325 - loss: 0.6416\n",
            "Epoch 4/20\n",
            "\u001b[1m45/45\u001b[0m \u001b[32m━━━━━━━━━━━━━━━━━━━━\u001b[0m\u001b[37m\u001b[0m \u001b[1m0s\u001b[0m 2ms/step - accuracy: 0.6226 - loss: 0.6472\n",
            "Epoch 5/20\n",
            "\u001b[1m45/45\u001b[0m \u001b[32m━━━━━━━━━━━━━━━━━━━━\u001b[0m\u001b[37m\u001b[0m \u001b[1m0s\u001b[0m 2ms/step - accuracy: 0.6246 - loss: 0.6461\n",
            "Epoch 6/20\n",
            "\u001b[1m45/45\u001b[0m \u001b[32m━━━━━━━━━━━━━━━━━━━━\u001b[0m\u001b[37m\u001b[0m \u001b[1m0s\u001b[0m 2ms/step - accuracy: 0.6473 - loss: 0.6318\n",
            "Epoch 7/20\n",
            "\u001b[1m45/45\u001b[0m \u001b[32m━━━━━━━━━━━━━━━━━━━━\u001b[0m\u001b[37m\u001b[0m \u001b[1m0s\u001b[0m 3ms/step - accuracy: 0.6360 - loss: 0.6395\n",
            "Epoch 8/20\n",
            "\u001b[1m45/45\u001b[0m \u001b[32m━━━━━━━━━━━━━━━━━━━━\u001b[0m\u001b[37m\u001b[0m \u001b[1m0s\u001b[0m 2ms/step - accuracy: 0.6498 - loss: 0.6256\n",
            "Epoch 9/20\n",
            "\u001b[1m45/45\u001b[0m \u001b[32m━━━━━━━━━━━━━━━━━━━━\u001b[0m\u001b[37m\u001b[0m \u001b[1m0s\u001b[0m 2ms/step - accuracy: 0.6497 - loss: 0.6238\n",
            "Epoch 10/20\n",
            "\u001b[1m45/45\u001b[0m \u001b[32m━━━━━━━━━━━━━━━━━━━━\u001b[0m\u001b[37m\u001b[0m \u001b[1m0s\u001b[0m 2ms/step - accuracy: 0.6290 - loss: 0.6374\n",
            "Epoch 11/20\n",
            "\u001b[1m45/45\u001b[0m \u001b[32m━━━━━━━━━━━━━━━━━━━━\u001b[0m\u001b[37m\u001b[0m \u001b[1m0s\u001b[0m 2ms/step - accuracy: 0.6263 - loss: 0.6426\n",
            "Epoch 12/20\n",
            "\u001b[1m45/45\u001b[0m \u001b[32m━━━━━━━━━━━━━━━━━━━━\u001b[0m\u001b[37m\u001b[0m \u001b[1m0s\u001b[0m 2ms/step - accuracy: 0.6338 - loss: 0.6446\n",
            "Epoch 13/20\n",
            "\u001b[1m45/45\u001b[0m \u001b[32m━━━━━━━━━━━━━━━━━━━━\u001b[0m\u001b[37m\u001b[0m \u001b[1m0s\u001b[0m 2ms/step - accuracy: 0.6234 - loss: 0.6334\n",
            "Epoch 14/20\n",
            "\u001b[1m45/45\u001b[0m \u001b[32m━━━━━━━━━━━━━━━━━━━━\u001b[0m\u001b[37m\u001b[0m \u001b[1m0s\u001b[0m 2ms/step - accuracy: 0.6545 - loss: 0.6256\n",
            "Epoch 15/20\n",
            "\u001b[1m45/45\u001b[0m \u001b[32m━━━━━━━━━━━━━━━━━━━━\u001b[0m\u001b[37m\u001b[0m \u001b[1m0s\u001b[0m 2ms/step - accuracy: 0.6599 - loss: 0.6219\n",
            "Epoch 16/20\n",
            "\u001b[1m45/45\u001b[0m \u001b[32m━━━━━━━━━━━━━━━━━━━━\u001b[0m\u001b[37m\u001b[0m \u001b[1m0s\u001b[0m 2ms/step - accuracy: 0.6437 - loss: 0.6321\n",
            "Epoch 17/20\n",
            "\u001b[1m45/45\u001b[0m \u001b[32m━━━━━━━━━━━━━━━━━━━━\u001b[0m\u001b[37m\u001b[0m \u001b[1m0s\u001b[0m 2ms/step - accuracy: 0.6572 - loss: 0.6240\n",
            "Epoch 18/20\n",
            "\u001b[1m45/45\u001b[0m \u001b[32m━━━━━━━━━━━━━━━━━━━━\u001b[0m\u001b[37m\u001b[0m \u001b[1m0s\u001b[0m 2ms/step - accuracy: 0.6485 - loss: 0.6262\n",
            "Epoch 19/20\n",
            "\u001b[1m45/45\u001b[0m \u001b[32m━━━━━━━━━━━━━━━━━━━━\u001b[0m\u001b[37m\u001b[0m \u001b[1m0s\u001b[0m 2ms/step - accuracy: 0.6447 - loss: 0.6297\n",
            "Epoch 20/20\n",
            "\u001b[1m45/45\u001b[0m \u001b[32m━━━━━━━━━━━━━━━━━━━━\u001b[0m\u001b[37m\u001b[0m \u001b[1m0s\u001b[0m 2ms/step - accuracy: 0.6291 - loss: 0.6458\n",
            "\u001b[1m20/20\u001b[0m \u001b[32m━━━━━━━━━━━━━━━━━━━━\u001b[0m\u001b[37m\u001b[0m \u001b[1m0s\u001b[0m 4ms/step\n",
            "\n",
            "EfficientNetB0-like Meta-Model Performance:\n",
            "Accuracy: 0.6215\n",
            "Precision: 0.6431\n",
            "Recall: 0.6431\n",
            "F1 Score: 0.6431\n"
          ]
        },
        {
          "output_type": "display_data",
          "data": {
            "text/plain": [
              "<Figure size 640x480 with 2 Axes>"
            ],
            "image/png": "[encoded data removed]"
          },
          "metadata": {}
        }
      ]
    },
    {
      "cell_type": "code",
      "source": [
        "# stacking PCA and SVC Learning Ensemble\n",
        "def transfer_learning_ensemble(model_1, model_2, model_3, X_train, X_test, y_train):\n",
        "    feature_extractor_model1 = tf.keras.Model(inputs=model_1.input, outputs=model_1.layers[-2].output)\n",
        "    feature_extractor_model2 = tf.keras.Model(inputs=model_2.input, outputs=model_2.layers[-2].output)\n",
        "    feature_extractor_model3 = tf.keras.Model(inputs=model_3.input, outputs=model_3.layers[-2].output)\n",
        "    features_train_1 = feature_extractor_model1.predict(X_train)\n",
        "    features_train_2 = feature_extractor_model2.predict(X_train)\n",
        "    features_train_3 = feature_extractor_model3.predict(X_train)\n",
        "    features_test_1 = feature_extractor_model1.predict(X_test)\n",
        "    features_test_2 = feature_extractor_model2.predict(X_test)\n",
        "    features_test_3 = feature_extractor_model3.predict(X_test)\n",
        "    stacked_train_features = np.hstack((features_train_1, features_train_2, features_train_3))\n",
        "    stacked_test_features = np.hstack((features_test_1, features_test_2, features_test_3))\n",
        "    pca = PCA(n_components=100)\n",
        "    stacked_train_features = pca.fit_transform(stacked_train_features)\n",
        "    stacked_test_features = pca.transform(stacked_test_features)\n",
        "    meta_model = SVC(kernel='rbf', probability=True)\n",
        "    meta_model.fit(stacked_train_features, y_train)\n",
        "    train_preds = meta_model.predict(stacked_train_features)\n",
        "    test_preds = meta_model.predict(stacked_test_features)\n",
        "    return train_preds, test_preds\n",
        "\n",
        "train_preds_transfer, test_preds_transfer = transfer_learning_ensemble(model_resnet50, model_densenet, model_efficientnetB0, X_train, X_test, y_train)\n",
        "\n",
        "print(\"\\nTransfer Learning - Training Metrics:\")\n",
        "print(f\"Accuracy: {accuracy_score(y_train, train_preds_transfer):.4f}\")\n",
        "print(f\"Precision: {precision_score(y_train, train_preds_transfer):.4f}\")\n",
        "print(f\"Recall: {recall_score(y_train, train_preds_transfer):.4f}\")\n",
        "print(f\"F1-Score: {f1_score(y_train, train_preds_transfer):.4f}\")\n",
        "print(\"Transfer Learning - Test Metrics:\")\n",
        "print(f\"Accuracy: {accuracy_score(y_test, test_preds_transfer):.4f}\")\n",
        "print(f\"Precision: {precision_score(y_test, test_preds_transfer):.4f}\")\n",
        "print(f\"Recall: {recall_score(y_test, test_preds_transfer):.4f}\")\n",
        "print(f\"F1-Score: {f1_score(y_test, test_preds_transfer):.4f}\")"
      ],
      "metadata": {
        "colab": {
          "base_uri": "https://localhost:8080/"
        },
        "id": "JbeKZkglV9cy",
        "outputId": "17882738-68d0-49b2-81e2-3bad44bfe97e"
      },
      "execution_count": null,
      "outputs": [
        {
          "output_type": "stream",
          "name": "stdout",
          "text": [
            "\u001b[1m45/45\u001b[0m \u001b[32m━━━━━━━━━━━━━━━━━━━━\u001b[0m\u001b[37m\u001b[0m \u001b[1m166s\u001b[0m 4s/step\n",
            "\u001b[1m45/45\u001b[0m \u001b[32m━━━━━━━━━━━━━━━━━━━━\u001b[0m\u001b[37m\u001b[0m \u001b[1m154s\u001b[0m 3s/step\n",
            "\u001b[1m45/45\u001b[0m \u001b[32m━━━━━━━━━━━━━━━━━━━━\u001b[0m\u001b[37m\u001b[0m \u001b[1m59s\u001b[0m 1s/step\n",
            "\u001b[1m20/20\u001b[0m \u001b[32m━━━━━━━━━━━━━━━━━━━━\u001b[0m\u001b[37m\u001b[0m \u001b[1m68s\u001b[0m 3s/step\n",
            "\u001b[1m20/20\u001b[0m \u001b[32m━━━━━━━━━━━━━━━━━━━━\u001b[0m\u001b[37m\u001b[0m \u001b[1m64s\u001b[0m 3s/step\n",
            "\u001b[1m20/20\u001b[0m \u001b[32m━━━━━━━━━━━━━━━━━━━━\u001b[0m\u001b[37m\u001b[0m \u001b[1m24s\u001b[0m 1s/step\n",
            "\n",
            "Transfer Learning - Training Metrics:\n",
            "Accuracy: 0.7276\n",
            "Precision: 0.7192\n",
            "Recall: 0.7963\n",
            "F1-Score: 0.7558\n",
            "Transfer Learning - Test Metrics:\n",
            "Accuracy: 0.5318\n",
            "Precision: 0.5531\n",
            "Recall: 0.6092\n",
            "F1-Score: 0.5798\n"
          ]
        }
      ]
    },
    {
      "cell_type": "code",
      "source": [],
      "metadata": {
        "id": "4_1cldEnambm"
      },
      "execution_count": null,
      "outputs": []
    }
  ],
  "metadata": {
    "colab": {
      "provenance": []
    },
    "kernelspec": {
      "display_name": "Python 3",
      "name": "python3"
    },
    "language_info": {
      "name": "python"
    }
  },
  "nbformat": 4,
  "nbformat_minor": 0
}