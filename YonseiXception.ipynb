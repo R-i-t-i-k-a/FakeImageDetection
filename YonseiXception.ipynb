{
  "cells": [
    {
      "cell_type": "code",
      "execution_count": null,
      "id": "ccdb1db1-5e15-4234-87d5-5da3941a258a",
      "metadata": {
        "scrolled": true,
        "id": "ccdb1db1-5e15-4234-87d5-5da3941a258a",
        "outputId": "e79d0596-4dab-4b4f-bbf4-eceb462cabb2"
      },
      "outputs": [
        {
          "name": "stdout",
          "output_type": "stream",
          "text": [
            "Requirement already satisfied: tensorflow in d:\\anaconda\\envs\\gpu\\lib\\site-packages (2.18.0)\n",
            "Requirement already satisfied: tensorflow-intel==2.18.0 in d:\\anaconda\\envs\\gpu\\lib\\site-packages (from tensorflow) (2.18.0)\n",
            "Requirement already satisfied: absl-py>=1.0.0 in d:\\anaconda\\envs\\gpu\\lib\\site-packages (from tensorflow-intel==2.18.0->tensorflow) (2.1.0)\n",
            "Requirement already satisfied: astunparse>=1.6.0 in d:\\anaconda\\envs\\gpu\\lib\\site-packages (from tensorflow-intel==2.18.0->tensorflow) (1.6.3)\n",
            "Requirement already satisfied: flatbuffers>=24.3.25 in d:\\anaconda\\envs\\gpu\\lib\\site-packages (from tensorflow-intel==2.18.0->tensorflow) (20210226132247)\n",
            "Requirement already satisfied: gast!=0.5.0,!=0.5.1,!=0.5.2,>=0.2.1 in d:\\anaconda\\envs\\gpu\\lib\\site-packages (from tensorflow-intel==2.18.0->tensorflow) (0.4.0)\n",
            "Requirement already satisfied: google-pasta>=0.1.1 in d:\\anaconda\\envs\\gpu\\lib\\site-packages (from tensorflow-intel==2.18.0->tensorflow) (0.2.0)\n",
            "Requirement already satisfied: libclang>=13.0.0 in d:\\anaconda\\envs\\gpu\\lib\\site-packages (from tensorflow-intel==2.18.0->tensorflow) (18.1.1)\n",
            "Requirement already satisfied: opt-einsum>=2.3.2 in d:\\anaconda\\envs\\gpu\\lib\\site-packages (from tensorflow-intel==2.18.0->tensorflow) (3.3.0)\n",
            "Requirement already satisfied: packaging in d:\\anaconda\\envs\\gpu\\lib\\site-packages (from tensorflow-intel==2.18.0->tensorflow) (24.1)\n",
            "Requirement already satisfied: protobuf!=4.21.0,!=4.21.1,!=4.21.2,!=4.21.3,!=4.21.4,!=4.21.5,<6.0.0dev,>=3.20.3 in d:\\anaconda\\envs\\gpu\\lib\\site-packages (from tensorflow-intel==2.18.0->tensorflow) (3.20.3)\n",
            "Requirement already satisfied: requests<3,>=2.21.0 in d:\\anaconda\\envs\\gpu\\lib\\site-packages (from tensorflow-intel==2.18.0->tensorflow) (2.32.3)\n",
            "Requirement already satisfied: setuptools in d:\\anaconda\\envs\\gpu\\lib\\site-packages (from tensorflow-intel==2.18.0->tensorflow) (75.1.0)\n",
            "Requirement already satisfied: six>=1.12.0 in d:\\anaconda\\envs\\gpu\\lib\\site-packages (from tensorflow-intel==2.18.0->tensorflow) (1.16.0)\n",
            "Requirement already satisfied: termcolor>=1.1.0 in d:\\anaconda\\envs\\gpu\\lib\\site-packages (from tensorflow-intel==2.18.0->tensorflow) (2.1.0)\n",
            "Requirement already satisfied: typing-extensions>=3.6.6 in d:\\anaconda\\envs\\gpu\\lib\\site-packages (from tensorflow-intel==2.18.0->tensorflow) (4.11.0)\n",
            "Requirement already satisfied: wrapt>=1.11.0 in d:\\anaconda\\envs\\gpu\\lib\\site-packages (from tensorflow-intel==2.18.0->tensorflow) (1.14.1)\n",
            "Requirement already satisfied: grpcio<2.0,>=1.24.3 in d:\\anaconda\\envs\\gpu\\lib\\site-packages (from tensorflow-intel==2.18.0->tensorflow) (1.48.2)\n",
            "Requirement already satisfied: tensorboard<2.19,>=2.18 in d:\\anaconda\\envs\\gpu\\lib\\site-packages (from tensorflow-intel==2.18.0->tensorflow) (2.18.0)\n",
            "Requirement already satisfied: keras>=3.5.0 in d:\\anaconda\\envs\\gpu\\lib\\site-packages (from tensorflow-intel==2.18.0->tensorflow) (3.8.0)\n",
            "Requirement already satisfied: numpy<2.1.0,>=1.26.0 in d:\\anaconda\\envs\\gpu\\lib\\site-packages (from tensorflow-intel==2.18.0->tensorflow) (1.26.4)\n",
            "Requirement already satisfied: h5py>=3.11.0 in d:\\anaconda\\envs\\gpu\\lib\\site-packages (from tensorflow-intel==2.18.0->tensorflow) (3.12.1)\n",
            "Requirement already satisfied: ml-dtypes<0.5.0,>=0.4.0 in d:\\anaconda\\envs\\gpu\\lib\\site-packages (from tensorflow-intel==2.18.0->tensorflow) (0.4.1)\n",
            "Requirement already satisfied: tensorflow-io-gcs-filesystem>=0.23.1 in d:\\anaconda\\envs\\gpu\\lib\\site-packages (from tensorflow-intel==2.18.0->tensorflow) (0.31.0)\n",
            "Requirement already satisfied: wheel<1.0,>=0.23.0 in d:\\anaconda\\envs\\gpu\\lib\\site-packages (from astunparse>=1.6.0->tensorflow-intel==2.18.0->tensorflow) (0.35.1)\n",
            "Requirement already satisfied: rich in d:\\anaconda\\envs\\gpu\\lib\\site-packages (from keras>=3.5.0->tensorflow-intel==2.18.0->tensorflow) (13.9.4)\n",
            "Requirement already satisfied: namex in d:\\anaconda\\envs\\gpu\\lib\\site-packages (from keras>=3.5.0->tensorflow-intel==2.18.0->tensorflow) (0.0.8)\n",
            "Requirement already satisfied: optree in d:\\anaconda\\envs\\gpu\\lib\\site-packages (from keras>=3.5.0->tensorflow-intel==2.18.0->tensorflow) (0.14.0)\n",
            "Requirement already satisfied: charset-normalizer<4,>=2 in d:\\anaconda\\envs\\gpu\\lib\\site-packages (from requests<3,>=2.21.0->tensorflow-intel==2.18.0->tensorflow) (3.3.2)\n",
            "Requirement already satisfied: idna<4,>=2.5 in d:\\anaconda\\envs\\gpu\\lib\\site-packages (from requests<3,>=2.21.0->tensorflow-intel==2.18.0->tensorflow) (3.7)\n",
            "Requirement already satisfied: urllib3<3,>=1.21.1 in d:\\anaconda\\envs\\gpu\\lib\\site-packages (from requests<3,>=2.21.0->tensorflow-intel==2.18.0->tensorflow) (2.2.3)\n",
            "Requirement already satisfied: certifi>=2017.4.17 in d:\\anaconda\\envs\\gpu\\lib\\site-packages (from requests<3,>=2.21.0->tensorflow-intel==2.18.0->tensorflow) (2024.12.14)\n",
            "Requirement already satisfied: markdown>=2.6.8 in d:\\anaconda\\envs\\gpu\\lib\\site-packages (from tensorboard<2.19,>=2.18->tensorflow-intel==2.18.0->tensorflow) (3.4.1)\n",
            "Requirement already satisfied: tensorboard-data-server<0.8.0,>=0.7.0 in d:\\anaconda\\envs\\gpu\\lib\\site-packages (from tensorboard<2.19,>=2.18->tensorflow-intel==2.18.0->tensorflow) (0.7.2)\n",
            "Requirement already satisfied: werkzeug>=1.0.1 in d:\\anaconda\\envs\\gpu\\lib\\site-packages (from tensorboard<2.19,>=2.18->tensorflow-intel==2.18.0->tensorflow) (3.0.3)\n",
            "Requirement already satisfied: importlib-metadata>=4.4 in d:\\anaconda\\envs\\gpu\\lib\\site-packages (from markdown>=2.6.8->tensorboard<2.19,>=2.18->tensorflow-intel==2.18.0->tensorflow) (7.0.1)\n",
            "Requirement already satisfied: MarkupSafe>=2.1.1 in d:\\anaconda\\envs\\gpu\\lib\\site-packages (from werkzeug>=1.0.1->tensorboard<2.19,>=2.18->tensorflow-intel==2.18.0->tensorflow) (2.1.3)\n",
            "Requirement already satisfied: markdown-it-py>=2.2.0 in d:\\anaconda\\envs\\gpu\\lib\\site-packages (from rich->keras>=3.5.0->tensorflow-intel==2.18.0->tensorflow) (3.0.0)\n",
            "Requirement already satisfied: pygments<3.0.0,>=2.13.0 in d:\\anaconda\\envs\\gpu\\lib\\site-packages (from rich->keras>=3.5.0->tensorflow-intel==2.18.0->tensorflow) (2.15.1)\n",
            "Requirement already satisfied: zipp>=0.5 in d:\\anaconda\\envs\\gpu\\lib\\site-packages (from importlib-metadata>=4.4->markdown>=2.6.8->tensorboard<2.19,>=2.18->tensorflow-intel==2.18.0->tensorflow) (3.20.2)\n",
            "Requirement already satisfied: mdurl~=0.1 in d:\\anaconda\\envs\\gpu\\lib\\site-packages (from markdown-it-py>=2.2.0->rich->keras>=3.5.0->tensorflow-intel==2.18.0->tensorflow) (0.1.2)\n"
          ]
        }
      ],
      "source": [
        "!pip install tensorflow --upgrade"
      ]
    },
    {
      "cell_type": "code",
      "execution_count": null,
      "id": "e682dd60-39d6-4427-8e38-e1a68247a67b",
      "metadata": {
        "id": "e682dd60-39d6-4427-8e38-e1a68247a67b",
        "outputId": "0e23b521-207f-4fca-b42b-67c8e9126a5b"
      },
      "outputs": [
        {
          "name": "stdout",
          "output_type": "stream",
          "text": [
            "Requirement already satisfied: pandas in d:\\anaconda\\envs\\gpu\\lib\\site-packages (2.2.3)\n",
            "Requirement already satisfied: numpy>=1.22.4 in d:\\anaconda\\envs\\gpu\\lib\\site-packages (from pandas) (1.26.4)\n",
            "Requirement already satisfied: python-dateutil>=2.8.2 in d:\\anaconda\\envs\\gpu\\lib\\site-packages (from pandas) (2.9.0.post0)\n",
            "Requirement already satisfied: pytz>=2020.1 in d:\\anaconda\\envs\\gpu\\lib\\site-packages (from pandas) (2024.1)\n",
            "Requirement already satisfied: tzdata>=2022.7 in d:\\anaconda\\envs\\gpu\\lib\\site-packages (from pandas) (2024.2)\n",
            "Requirement already satisfied: six>=1.5 in d:\\anaconda\\envs\\gpu\\lib\\site-packages (from python-dateutil>=2.8.2->pandas) (1.16.0)\n"
          ]
        }
      ],
      "source": [
        "!pip install pandas"
      ]
    },
    {
      "cell_type": "code",
      "execution_count": null,
      "id": "6ac2dc8a-2b65-48b3-a9ab-74e8b3933f06",
      "metadata": {
        "scrolled": true,
        "id": "6ac2dc8a-2b65-48b3-a9ab-74e8b3933f06",
        "outputId": "f4a67373-d06b-4ce6-c292-dae72d0bf05f"
      },
      "outputs": [
        {
          "name": "stdout",
          "output_type": "stream",
          "text": [
            "Requirement already satisfied: seaborn in d:\\anaconda\\envs\\gpu\\lib\\site-packages (0.13.2)\n",
            "Requirement already satisfied: numpy!=1.24.0,>=1.20 in d:\\anaconda\\envs\\gpu\\lib\\site-packages (from seaborn) (1.26.4)\n",
            "Requirement already satisfied: pandas>=1.2 in d:\\anaconda\\envs\\gpu\\lib\\site-packages (from seaborn) (2.2.3)\n",
            "Requirement already satisfied: matplotlib!=3.6.1,>=3.4 in d:\\anaconda\\envs\\gpu\\lib\\site-packages (from seaborn) (3.9.2)\n",
            "Requirement already satisfied: contourpy>=1.0.1 in d:\\anaconda\\envs\\gpu\\lib\\site-packages (from matplotlib!=3.6.1,>=3.4->seaborn) (1.3.0)\n",
            "Requirement already satisfied: cycler>=0.10 in d:\\anaconda\\envs\\gpu\\lib\\site-packages (from matplotlib!=3.6.1,>=3.4->seaborn) (0.12.1)\n",
            "Requirement already satisfied: fonttools>=4.22.0 in d:\\anaconda\\envs\\gpu\\lib\\site-packages (from matplotlib!=3.6.1,>=3.4->seaborn) (4.54.1)\n",
            "Requirement already satisfied: kiwisolver>=1.3.1 in d:\\anaconda\\envs\\gpu\\lib\\site-packages (from matplotlib!=3.6.1,>=3.4->seaborn) (1.4.7)\n",
            "Requirement already satisfied: packaging>=20.0 in d:\\anaconda\\envs\\gpu\\lib\\site-packages (from matplotlib!=3.6.1,>=3.4->seaborn) (24.1)\n",
            "Requirement already satisfied: pillow>=8 in d:\\anaconda\\envs\\gpu\\lib\\site-packages (from matplotlib!=3.6.1,>=3.4->seaborn) (10.4.0)\n",
            "Requirement already satisfied: pyparsing>=2.3.1 in d:\\anaconda\\envs\\gpu\\lib\\site-packages (from matplotlib!=3.6.1,>=3.4->seaborn) (3.2.0)\n",
            "Requirement already satisfied: python-dateutil>=2.7 in d:\\anaconda\\envs\\gpu\\lib\\site-packages (from matplotlib!=3.6.1,>=3.4->seaborn) (2.9.0.post0)\n",
            "Requirement already satisfied: importlib-resources>=3.2.0 in d:\\anaconda\\envs\\gpu\\lib\\site-packages (from matplotlib!=3.6.1,>=3.4->seaborn) (6.4.5)\n",
            "Requirement already satisfied: pytz>=2020.1 in d:\\anaconda\\envs\\gpu\\lib\\site-packages (from pandas>=1.2->seaborn) (2024.1)\n",
            "Requirement already satisfied: tzdata>=2022.7 in d:\\anaconda\\envs\\gpu\\lib\\site-packages (from pandas>=1.2->seaborn) (2024.2)\n",
            "Requirement already satisfied: zipp>=3.1.0 in d:\\anaconda\\envs\\gpu\\lib\\site-packages (from importlib-resources>=3.2.0->matplotlib!=3.6.1,>=3.4->seaborn) (3.20.2)\n",
            "Requirement already satisfied: six>=1.5 in d:\\anaconda\\envs\\gpu\\lib\\site-packages (from python-dateutil>=2.7->matplotlib!=3.6.1,>=3.4->seaborn) (1.16.0)\n"
          ]
        }
      ],
      "source": [
        "!pip install seaborn"
      ]
    },
    {
      "cell_type": "code",
      "execution_count": null,
      "id": "2cf2f7f1-f2d1-488e-bd3b-362ccc7eb049",
      "metadata": {
        "id": "2cf2f7f1-f2d1-488e-bd3b-362ccc7eb049"
      },
      "outputs": [],
      "source": [
        "import os\n",
        "import time\n",
        "import numpy as np\n",
        "import pandas as pd\n",
        "import matplotlib.pyplot as plt\n",
        "import seaborn as sns\n",
        "import tensorflow as tf\n",
        "from sklearn.model_selection import train_test_split\n",
        "from sklearn.metrics import accuracy_score, precision_score, recall_score, f1_score, confusion_matrix\n",
        "from tensorflow.keras.preprocessing.image import load_img, img_to_array\n"
      ]
    },
    {
      "cell_type": "code",
      "execution_count": null,
      "id": "e32e474c-b878-48b0-a257-0c6a4bcc673b",
      "metadata": {
        "id": "e32e474c-b878-48b0-a257-0c6a4bcc673b"
      },
      "outputs": [],
      "source": [
        "from tensorflow.keras.applications import ResNet50, EfficientNetB0, DenseNet121, Xception, VGG16\n",
        "from tensorflow.keras.layers import GlobalAveragePooling2D, Dense, Dropout, BatchNormalization\n",
        "from tensorflow.keras.models import Model\n",
        "from tensorflow.keras.optimizers import Adam\n",
        "from tensorflow.keras.callbacks import EarlyStopping, ReduceLROnPlateau"
      ]
    },
    {
      "cell_type": "code",
      "execution_count": null,
      "id": "04ccaffd-7d0e-4a24-a5de-2f5bdf98cfc3",
      "metadata": {
        "id": "04ccaffd-7d0e-4a24-a5de-2f5bdf98cfc3"
      },
      "outputs": [],
      "source": [
        "# Ensure correct image size format\n",
        "IMAGE_SIZE = (224, 224)  # Tuple format\n",
        "\n",
        "# Clear previous TensorFlow session\n",
        "tf.keras.backend.clear_session()"
      ]
    },
    {
      "cell_type": "code",
      "execution_count": null,
      "id": "5ba2a591-a51b-4b08-bdfe-25be5cb6a72a",
      "metadata": {
        "id": "5ba2a591-a51b-4b08-bdfe-25be5cb6a72a"
      },
      "outputs": [],
      "source": [
        "def load_image_paths_labels(folder_path, label):\n",
        "    image_paths = [os.path.join(folder_path, file) for file in os.listdir(folder_path)]\n",
        "    labels = [label] * len(image_paths)\n",
        "    return image_paths, labels\n"
      ]
    },
    {
      "cell_type": "code",
      "execution_count": null,
      "id": "9dd1031a-e6a6-456a-972c-fc329ae626d6",
      "metadata": {
        "id": "9dd1031a-e6a6-456a-972c-fc329ae626d6"
      },
      "outputs": [],
      "source": [
        "# Dataset Paths\n",
        "real_path = 'Dataset/real_and_fake_face/training_real'\n",
        "fake_path = 'Dataset/real_and_fake_face/training_fake'\n",
        "\n",
        "real_paths, real_labels = load_image_paths_labels(real_path, 1)\n",
        "fake_paths, fake_labels = load_image_paths_labels(fake_path, 0)\n",
        "\n",
        "image_paths = real_paths + fake_paths\n",
        "labels = real_labels + fake_labels\n",
        "\n",
        "df = pd.DataFrame({'Paths': image_paths, 'Real': labels})\n"
      ]
    },
    {
      "cell_type": "code",
      "execution_count": null,
      "id": "48f7224b-9472-44b9-a243-af16d1798087",
      "metadata": {
        "id": "48f7224b-9472-44b9-a243-af16d1798087"
      },
      "outputs": [],
      "source": [
        "import os\n",
        "\n",
        "def is_valid_image(path):\n",
        "    return not path.endswith('.ipynb_checkpoints')\n",
        "\n",
        "df = df[df['Paths'].apply(is_valid_image)]"
      ]
    },
    {
      "cell_type": "code",
      "execution_count": null,
      "id": "1b399aab-d1f6-4c9c-a162-354448a01d19",
      "metadata": {
        "id": "1b399aab-d1f6-4c9c-a162-354448a01d19"
      },
      "outputs": [],
      "source": [
        "def preprocess_image(path, target_size=IMAGE_SIZE):\n",
        "    img = load_img(path, target_size=target_size)\n",
        "    img_array = img_to_array(img)\n",
        "    img_array = np.expand_dims(img_array, axis=0)  # Expand dims for batch processing\n",
        "    return img_array / 255.0  # Normalize\n",
        "\n",
        "df['image'] = df['Paths'].apply(preprocess_image)\n",
        "\n",
        "# Convert images from Series to NumPy array\n",
        "X = np.vstack(df['image'].values)\n",
        "y = np.array(df['Real'].values)\n",
        "\n",
        "# Train-test split\n",
        "X_train, X_test, y_train, y_test = train_test_split(X, y, test_size=0.2, stratify=y, random_state=123)\n",
        "\n",
        "def evaluate_model(model, X_test, y_test):\n",
        "    y_pred = (model.predict(X_test) > 0.5).astype(int)\n",
        "    cm = confusion_matrix(y_test, y_pred)\n",
        "    metrics = {\n",
        "        \"Accuracy\": accuracy_score(y_test, y_pred),\n",
        "        \"Precision\": precision_score(y_test, y_pred),\n",
        "        \"Recall\": recall_score(y_test, y_pred),\n",
        "        \"F1-Score\": f1_score(y_test, y_pred),\n",
        "        \"Confusion Matrix\": cm\n",
        "    }\n",
        "    return metrics\n",
        "\n",
        "def plot_metrics(metrics):\n",
        "    sns.heatmap(metrics[\"Confusion Matrix\"], annot=True, fmt=\"d\", cmap=\"Blues\", xticklabels=['Real', 'Fake'], yticklabels=['Real', 'Fake'])\n",
        "    plt.xlabel('Predicted Label')\n",
        "    plt.ylabel('True Label')\n",
        "    plt.title('Confusion Matrix')\n",
        "    plt.show()\n",
        "    for key, value in metrics.items():\n",
        "        if key != \"Confusion Matrix\":\n",
        "            print(f\"{key}: {value:.4f}\")\n",
        "\n",
        "# Function to build and train a model\n",
        "def build_and_train_model(model_name, base_model_fn, preprocess_fn, epochs=20, batch_size=32):\n",
        "    print(f\"\\nTraining {model_name}...\\n\")\n",
        "\n",
        "    # Clear previous TensorFlow session\n",
        "    tf.keras.backend.clear_session()\n",
        "\n",
        "    # Apply model-specific preprocessing\n",
        "    X_train_prep = preprocess_fn(X_train)\n",
        "    X_test_prep = preprocess_fn(X_test)\n",
        "\n",
        "    # Define model architecture\n",
        "    base_model = base_model_fn(weights='imagenet', include_top=False, input_shape=(224, 224, 3))\n",
        "    base_model.trainable = False\n",
        "    x = GlobalAveragePooling2D()(base_model.output)\n",
        "    x = Dense(256, activation='relu')(x)\n",
        "    x = BatchNormalization()(x)\n",
        "    x = Dropout(0.5)(x)\n",
        "    output = Dense(1, activation='sigmoid')(x)\n",
        "    model = Model(inputs=base_model.input, outputs=output)\n",
        "\n",
        "    # Compile model\n",
        "    model.compile(optimizer=Adam(learning_rate=1e-4), loss='binary_crossentropy', metrics=['accuracy'])\n",
        "\n",
        "    callbacks = [\n",
        "        EarlyStopping(monitor='val_loss', patience=3, restore_best_weights=True),\n",
        "        ReduceLROnPlateau(monitor='val_loss', factor=0.2, patience=2, min_lr=1e-5)\n",
        "    ]\n",
        "\n",
        "    # Train model\n",
        "    start_time = time.time()\n",
        "    history = model.fit(X_train_prep, y_train, epochs=epochs, batch_size=batch_size, validation_data=(X_test_prep, y_test), callbacks=callbacks)\n",
        "    print(f\"Training time for {model_name}: {time.time() - start_time:.2f} seconds\")\n",
        "\n",
        "    # Save model\n",
        "    model.save(f\"{model_name}.h5\")\n",
        "    print(f\"{model_name} saved successfully.\\n\")\n",
        "\n",
        "    # Evaluate model\n",
        "    metrics = evaluate_model(model, X_test_prep, y_test)\n",
        "    plot_metrics(metrics)\n"
      ]
    },
    {
      "cell_type": "code",
      "execution_count": null,
      "id": "473d66c2-ff30-41a4-83b9-88f994b1a09d",
      "metadata": {
        "id": "473d66c2-ff30-41a4-83b9-88f994b1a09d",
        "outputId": "9261ba7f-eb25-4a21-cd2a-f2db21aafaec"
      },
      "outputs": [
        {
          "name": "stdout",
          "output_type": "stream",
          "text": [
            "\n",
            "Training Xception...\n",
            "\n",
            "Epoch 1/20\n",
            "\u001b[1m51/51\u001b[0m \u001b[32m━━━━━━━━━━━━━━━━━━━━\u001b[0m\u001b[37m\u001b[0m \u001b[1m137s\u001b[0m 2s/step - accuracy: 0.5357 - loss: 0.7113 - val_accuracy: 0.4841 - val_loss: 0.6931 - learning_rate: 1.0000e-04\n",
            "Epoch 2/20\n",
            "\u001b[1m51/51\u001b[0m \u001b[32m━━━━━━━━━━━━━━━━━━━━\u001b[0m\u001b[37m\u001b[0m \u001b[1m126s\u001b[0m 2s/step - accuracy: 0.5592 - loss: 0.6812 - val_accuracy: 0.5306 - val_loss: 0.6905 - learning_rate: 1.0000e-04\n",
            "Epoch 3/20\n",
            "\u001b[1m51/51\u001b[0m \u001b[32m━━━━━━━━━━━━━━━━━━━━\u001b[0m\u001b[37m\u001b[0m \u001b[1m127s\u001b[0m 3s/step - accuracy: 0.5638 - loss: 0.6816 - val_accuracy: 0.5306 - val_loss: 0.6901 - learning_rate: 1.0000e-04\n",
            "Epoch 4/20\n",
            "\u001b[1m51/51\u001b[0m \u001b[32m━━━━━━━━━━━━━━━━━━━━\u001b[0m\u001b[37m\u001b[0m \u001b[1m143s\u001b[0m 3s/step - accuracy: 0.5640 - loss: 0.6738 - val_accuracy: 0.5306 - val_loss: 0.6891 - learning_rate: 1.0000e-04\n",
            "Epoch 5/20\n",
            "\u001b[1m51/51\u001b[0m \u001b[32m━━━━━━━━━━━━━━━━━━━━\u001b[0m\u001b[37m\u001b[0m \u001b[1m125s\u001b[0m 2s/step - accuracy: 0.5646 - loss: 0.6762 - val_accuracy: 0.5477 - val_loss: 0.6888 - learning_rate: 1.0000e-04\n",
            "Epoch 6/20\n",
            "\u001b[1m51/51\u001b[0m \u001b[32m━━━━━━━━━━━━━━━━━━━━\u001b[0m\u001b[37m\u001b[0m \u001b[1m130s\u001b[0m 3s/step - accuracy: 0.6059 - loss: 0.6665 - val_accuracy: 0.5306 - val_loss: 0.6883 - learning_rate: 1.0000e-04\n",
            "Epoch 7/20\n",
            "\u001b[1m51/51\u001b[0m \u001b[32m━━━━━━━━━━━━━━━━━━━━\u001b[0m\u001b[37m\u001b[0m \u001b[1m104s\u001b[0m 2s/step - accuracy: 0.5826 - loss: 0.6644 - val_accuracy: 0.5770 - val_loss: 0.6890 - learning_rate: 1.0000e-04\n",
            "Epoch 8/20\n",
            "\u001b[1m51/51\u001b[0m \u001b[32m━━━━━━━━━━━━━━━━━━━━\u001b[0m\u001b[37m\u001b[0m \u001b[1m100s\u001b[0m 2s/step - accuracy: 0.6108 - loss: 0.6625 - val_accuracy: 0.5355 - val_loss: 0.6856 - learning_rate: 1.0000e-04\n",
            "Epoch 9/20\n",
            "\u001b[1m51/51\u001b[0m \u001b[32m━━━━━━━━━━━━━━━━━━━━\u001b[0m\u001b[37m\u001b[0m \u001b[1m113s\u001b[0m 2s/step - accuracy: 0.5846 - loss: 0.6682 - val_accuracy: 0.5403 - val_loss: 0.6846 - learning_rate: 1.0000e-04\n",
            "Epoch 10/20\n",
            "\u001b[1m51/51\u001b[0m \u001b[32m━━━━━━━━━━━━━━━━━━━━\u001b[0m\u001b[37m\u001b[0m \u001b[1m116s\u001b[0m 2s/step - accuracy: 0.6113 - loss: 0.6602 - val_accuracy: 0.5721 - val_loss: 0.6815 - learning_rate: 1.0000e-04\n",
            "Epoch 11/20\n",
            "\u001b[1m51/51\u001b[0m \u001b[32m━━━━━━━━━━━━━━━━━━━━\u001b[0m\u001b[37m\u001b[0m \u001b[1m138s\u001b[0m 2s/step - accuracy: 0.6040 - loss: 0.6514 - val_accuracy: 0.4988 - val_loss: 0.6989 - learning_rate: 1.0000e-04\n",
            "Epoch 12/20\n",
            "\u001b[1m51/51\u001b[0m \u001b[32m━━━━━━━━━━━━━━━━━━━━\u001b[0m\u001b[37m\u001b[0m \u001b[1m162s\u001b[0m 3s/step - accuracy: 0.6177 - loss: 0.6429 - val_accuracy: 0.5355 - val_loss: 0.6854 - learning_rate: 1.0000e-04\n",
            "Epoch 13/20\n",
            "\u001b[1m51/51\u001b[0m \u001b[32m━━━━━━━━━━━━━━━━━━━━\u001b[0m\u001b[37m\u001b[0m \u001b[1m120s\u001b[0m 2s/step - accuracy: 0.6322 - loss: 0.6452 - val_accuracy: 0.5403 - val_loss: 0.6859 - learning_rate: 2.0000e-05\n"
          ]
        },
        {
          "name": "stderr",
          "output_type": "stream",
          "text": [
            "WARNING:absl:You are saving your model as an HDF5 file via `model.save()` or `keras.saving.save_model(model)`. This file format is considered legacy. We recommend using instead the native Keras format, e.g. `model.save('my_model.keras')` or `keras.saving.save_model(model, 'my_model.keras')`. \n"
          ]
        },
        {
          "name": "stdout",
          "output_type": "stream",
          "text": [
            "Training time for Xception: 1674.71 seconds\n",
            "Xception saved successfully.\n",
            "\n",
            "\u001b[1m13/13\u001b[0m \u001b[32m━━━━━━━━━━━━━━━━━━━━\u001b[0m\u001b[37m\u001b[0m \u001b[1m32s\u001b[0m 2s/step\n"
          ]
        },
        {
          "data": {
            "image/png": "[encoded data removed]",
            "text/plain": [
              "<Figure size 640x480 with 2 Axes>"
            ]
          },
          "metadata": {},
          "output_type": "display_data"
        },
        {
          "name": "stdout",
          "output_type": "stream",
          "text": [
            "Accuracy: 0.5721\n",
            "Precision: 0.5691\n",
            "Recall: 0.7972\n",
            "F1-Score: 0.6641\n"
          ]
        }
      ],
      "source": [
        "build_and_train_model(\"Xception\", Xception, tf.keras.applications.xception.preprocess_input)"
      ]
    }
  ],
  "metadata": {
    "kernelspec": {
      "display_name": "Python 3 (ipykernel)",
      "language": "python",
      "name": "python3"
    },
    "language_info": {
      "codemirror_mode": {
        "name": "ipython",
        "version": 3
      },
      "file_extension": ".py",
      "mimetype": "text/x-python",
      "name": "python",
      "nbconvert_exporter": "python",
      "pygments_lexer": "ipython3",
      "version": "3.9.20"
    },
    "colab": {
      "provenance": []
    }
  },
  "nbformat": 4,
  "nbformat_minor": 5
}